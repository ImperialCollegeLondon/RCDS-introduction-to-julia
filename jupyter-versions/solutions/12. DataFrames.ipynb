{
 "cells": [
  {
   "cell_type": "markdown",
   "id": "lasto200",
   "metadata": {},
   "source": [
    "# Introduction to Julia DataFrames\n",
    "\n",
    "In this notebook, we will provide an introduction to Julia DataFrames using the titanic dataset. We will cover the following topics:\n",
    "\n",
    "* Loading data into a DataFrame\n",
    "* Basic data manipulation and analysis using DataFrames\n",
    "* Exercises for practicing data manipulation and analysis using the titanic dataset in a DataFrame\n",
    "\n",
    "We assume that you have a basic understanding of Julia programming. If you are new to Julia, we recommend that you complete the [official Julia documentation](https://docs.julialang.org/en/v1/) and/or a Julia tutorial or course before proceeding with this notebook.\n",
    "\n",
    "To get started, let's load the necessary packages:\n"
   ]
  },
  {
   "cell_type": "code",
   "execution_count": 76,
   "id": "fdd2a8ab",
   "metadata": {
    "collapsed": false
   },
   "outputs": [],
   "source": [
    "# Load necessary packages\n",
    "using DataFrames\n",
    "using CSV\n",
    "using Statistics"
   ]
  },
  {
   "cell_type": "markdown",
   "id": "9e97cc1d",
   "metadata": {},
   "source": [
    "## Loading the titanic dataset\n",
    "\n",
    "The titanic dataset contains information about the passengers on the Titanic, including their age, sex, passenger class, and survival status. We will load this dataset into a DataFrame using the `CSV.jl` package.\n",
    "\n",
    "To load the titanic dataset, we first need to download the `titanic.csv` file. You can download the file from the [Kaggle website](https://www.kaggle.com/c/titanic/data) and save it in the same directory as this notebook. Once you have downloaded the file, you can use the following code to load it into a DataFrame:"
   ]
  },
  {
   "cell_type": "code",
   "execution_count": 77,
   "id": "1c9e32fd",
   "metadata": {},
   "outputs": [
    {
     "ename": "LoadError",
     "evalue": "ArgumentError: \"titanic.csv\" is not a valid file or doesn't exist",
     "output_type": "error",
     "traceback": [
      "ArgumentError: \"titanic.csv\" is not a valid file or doesn't exist",
      "",
      "Stacktrace:",
      " [1] CSV.Context(source::CSV.Arg, header::CSV.Arg, normalizenames::CSV.Arg, datarow::CSV.Arg, skipto::CSV.Arg, footerskip::CSV.Arg, transpose::CSV.Arg, comment::CSV.Arg, ignoreemptyrows::CSV.Arg, ignoreemptylines::CSV.Arg, select::CSV.Arg, drop::CSV.Arg, limit::CSV.Arg, buffer_in_memory::CSV.Arg, threaded::CSV.Arg, ntasks::CSV.Arg, tasks::CSV.Arg, rows_to_check::CSV.Arg, lines_to_check::CSV.Arg, missingstrings::CSV.Arg, missingstring::CSV.Arg, delim::CSV.Arg, ignorerepeated::CSV.Arg, quoted::CSV.Arg, quotechar::CSV.Arg, openquotechar::CSV.Arg, closequotechar::CSV.Arg, escapechar::CSV.Arg, dateformat::CSV.Arg, dateformats::CSV.Arg, decimal::CSV.Arg, truestrings::CSV.Arg, falsestrings::CSV.Arg, stripwhitespace::CSV.Arg, type::CSV.Arg, types::CSV.Arg, typemap::CSV.Arg, pool::CSV.Arg, downcast::CSV.Arg, lazystrings::CSV.Arg, stringtype::CSV.Arg, strict::CSV.Arg, silencewarnings::CSV.Arg, maxwarnings::CSV.Arg, debug::CSV.Arg, parsingdebug::CSV.Arg, validate::CSV.Arg, streaming::CSV.Arg)",
      "   @ CSV ~/.julia/packages/CSV/b8ebJ/src/context.jl:306",
      " [2] #File#28",
      "   @ ~/.julia/packages/CSV/b8ebJ/src/file.jl:221 [inlined]",
      " [3] CSV.File(source::String)",
      "   @ CSV ~/.julia/packages/CSV/b8ebJ/src/file.jl:162",
      " [4] top-level scope",
      "   @ In[77]:2"
     ]
    }
   ],
   "source": [
    "# Load the titanic dataset into a DataFrame using CSV.jl\n",
    "titanic = DataFrame(CSV.File(\"titanic.csv\"))\n",
    "first(titanic, 5)"
   ]
  },
  {
   "attachments": {},
   "cell_type": "markdown",
   "id": "3fcbc94e",
   "metadata": {},
   "source": [
    "## Basic data manipulation and analysis using DataFrames\n",
    "\n",
    "Now that we have loaded the titanic dataset into a DataFrame, we can start exploring and analyzing the data. We will use basic DataFrame functions such as `head`, `describe`, and `groupby` to do so.\n",
    "\n",
    "Let's start by determining the number of rows and columns in the titanic DataFrame:"
   ]
  },
  {
   "cell_type": "code",
   "execution_count": null,
   "id": "cc3f3aab",
   "metadata": {
    "collapsed": false
   },
   "outputs": [
    {
     "name": "stdout",
     "output_type": "stream",
     "text": [
      "Number of rows: 891\n",
      "Number of columns: 12\n"
     ]
    }
   ],
   "source": [
    "# Determine the number of rows and columns in the titanic DataFrame\n",
    "nrows, ncols = size(titanic)\n",
    "println(\"Number of rows: \", nrows)\n",
    "println(\"Number of columns: \", ncols)"
   ]
  },
  {
   "cell_type": "markdown",
   "id": "a2fc0725",
   "metadata": {},
   "source": [
    "Next, let's print a summary of the titanic DataFrame using the `describe` function:"
   ]
  },
  {
   "cell_type": "code",
   "execution_count": null,
   "id": "547b5cf4",
   "metadata": {},
   "outputs": [
    {
     "data": {
      "text/html": [
       "<div><div style = \"float: left;\"><span>12×7 DataFrame</span></div><div style = \"clear: both;\"></div></div><div class = \"data-frame\" style = \"overflow-x: scroll;\"><table class = \"data-frame\" style = \"margin-bottom: 6px;\"><thead><tr class = \"header\"><th class = \"rowNumber\" style = \"font-weight: bold; text-align: right;\">Row</th><th style = \"text-align: left;\">variable</th><th style = \"text-align: left;\">mean</th><th style = \"text-align: left;\">min</th><th style = \"text-align: left;\">median</th><th style = \"text-align: left;\">max</th><th style = \"text-align: left;\">nmissing</th><th style = \"text-align: left;\">eltype</th></tr><tr class = \"subheader headerLastRow\"><th class = \"rowNumber\" style = \"font-weight: bold; text-align: right;\"></th><th title = \"Symbol\" style = \"text-align: left;\">Symbol</th><th title = \"Union{Nothing, Float64}\" style = \"text-align: left;\">Union…</th><th title = \"Any\" style = \"text-align: left;\">Any</th><th title = \"Union{Nothing, Float64}\" style = \"text-align: left;\">Union…</th><th title = \"Any\" style = \"text-align: left;\">Any</th><th title = \"Int64\" style = \"text-align: left;\">Int64</th><th title = \"Type\" style = \"text-align: left;\">Type</th></tr></thead><tbody><tr><td class = \"rowNumber\" style = \"font-weight: bold; text-align: right;\">1</td><td style = \"text-align: left;\">PassengerId</td><td style = \"text-align: left;\">446.0</td><td style = \"text-align: left;\">1</td><td style = \"text-align: left;\">446.0</td><td style = \"text-align: left;\">891</td><td style = \"text-align: right;\">0</td><td style = \"text-align: left;\">Int64</td></tr><tr><td class = \"rowNumber\" style = \"font-weight: bold; text-align: right;\">2</td><td style = \"text-align: left;\">Survived</td><td style = \"text-align: left;\">0.383838</td><td style = \"text-align: left;\">0</td><td style = \"text-align: left;\">0.0</td><td style = \"text-align: left;\">1</td><td style = \"text-align: right;\">0</td><td style = \"text-align: left;\">Int64</td></tr><tr><td class = \"rowNumber\" style = \"font-weight: bold; text-align: right;\">3</td><td style = \"text-align: left;\">Pclass</td><td style = \"text-align: left;\">2.30864</td><td style = \"text-align: left;\">1</td><td style = \"text-align: left;\">3.0</td><td style = \"text-align: left;\">3</td><td style = \"text-align: right;\">0</td><td style = \"text-align: left;\">Int64</td></tr><tr><td class = \"rowNumber\" style = \"font-weight: bold; text-align: right;\">4</td><td style = \"text-align: left;\">Name</td><td style = \"font-style: italic; text-align: left;\"></td><td style = \"text-align: left;\">Abbing, Mr. Anthony</td><td style = \"font-style: italic; text-align: left;\"></td><td style = \"text-align: left;\">van Melkebeke, Mr. Philemon</td><td style = \"text-align: right;\">0</td><td style = \"text-align: left;\">String</td></tr><tr><td class = \"rowNumber\" style = \"font-weight: bold; text-align: right;\">5</td><td style = \"text-align: left;\">Sex</td><td style = \"font-style: italic; text-align: left;\"></td><td style = \"text-align: left;\">female</td><td style = \"font-style: italic; text-align: left;\"></td><td style = \"text-align: left;\">male</td><td style = \"text-align: right;\">0</td><td style = \"text-align: left;\">String7</td></tr><tr><td class = \"rowNumber\" style = \"font-weight: bold; text-align: right;\">6</td><td style = \"text-align: left;\">Age</td><td style = \"text-align: left;\">29.6991</td><td style = \"text-align: left;\">0.42</td><td style = \"text-align: left;\">28.0</td><td style = \"text-align: left;\">80.0</td><td style = \"text-align: right;\">177</td><td style = \"text-align: left;\">Union{Missing, Float64}</td></tr><tr><td class = \"rowNumber\" style = \"font-weight: bold; text-align: right;\">7</td><td style = \"text-align: left;\">SibSp</td><td style = \"text-align: left;\">0.523008</td><td style = \"text-align: left;\">0</td><td style = \"text-align: left;\">0.0</td><td style = \"text-align: left;\">8</td><td style = \"text-align: right;\">0</td><td style = \"text-align: left;\">Int64</td></tr><tr><td class = \"rowNumber\" style = \"font-weight: bold; text-align: right;\">8</td><td style = \"text-align: left;\">Parch</td><td style = \"text-align: left;\">0.381594</td><td style = \"text-align: left;\">0</td><td style = \"text-align: left;\">0.0</td><td style = \"text-align: left;\">6</td><td style = \"text-align: right;\">0</td><td style = \"text-align: left;\">Int64</td></tr><tr><td class = \"rowNumber\" style = \"font-weight: bold; text-align: right;\">9</td><td style = \"text-align: left;\">Ticket</td><td style = \"font-style: italic; text-align: left;\"></td><td style = \"text-align: left;\">110152</td><td style = \"font-style: italic; text-align: left;\"></td><td style = \"text-align: left;\">WE/P 5735</td><td style = \"text-align: right;\">0</td><td style = \"text-align: left;\">String31</td></tr><tr><td class = \"rowNumber\" style = \"font-weight: bold; text-align: right;\">10</td><td style = \"text-align: left;\">Fare</td><td style = \"text-align: left;\">32.2042</td><td style = \"text-align: left;\">0.0</td><td style = \"text-align: left;\">14.4542</td><td style = \"text-align: left;\">512.329</td><td style = \"text-align: right;\">0</td><td style = \"text-align: left;\">Float64</td></tr><tr><td class = \"rowNumber\" style = \"font-weight: bold; text-align: right;\">11</td><td style = \"text-align: left;\">Cabin</td><td style = \"font-style: italic; text-align: left;\"></td><td style = \"text-align: left;\">A10</td><td style = \"font-style: italic; text-align: left;\"></td><td style = \"text-align: left;\">T</td><td style = \"text-align: right;\">687</td><td style = \"text-align: left;\">Union{Missing, String15}</td></tr><tr><td class = \"rowNumber\" style = \"font-weight: bold; text-align: right;\">12</td><td style = \"text-align: left;\">Embarked</td><td style = \"font-style: italic; text-align: left;\"></td><td style = \"text-align: left;\">C</td><td style = \"font-style: italic; text-align: left;\"></td><td style = \"text-align: left;\">S</td><td style = \"text-align: right;\">2</td><td style = \"text-align: left;\">Union{Missing, String1}</td></tr></tbody></table></div>"
      ],
      "text/latex": [
       "\\begin{tabular}{r|cccccc}\n",
       "\t& variable & mean & min & median & max & \\\\\n",
       "\t\\hline\n",
       "\t& Symbol & Union… & Any & Union… & Any & \\\\\n",
       "\t\\hline\n",
       "\t1 & PassengerId & 446.0 & 1 & 446.0 & 891 & $\\dots$ \\\\\n",
       "\t2 & Survived & 0.383838 & 0 & 0.0 & 1 & $\\dots$ \\\\\n",
       "\t3 & Pclass & 2.30864 & 1 & 3.0 & 3 & $\\dots$ \\\\\n",
       "\t4 & Name &  & Abbing, Mr. Anthony &  & van Melkebeke, Mr. Philemon & $\\dots$ \\\\\n",
       "\t5 & Sex &  & female &  & male & $\\dots$ \\\\\n",
       "\t6 & Age & 29.6991 & 0.42 & 28.0 & 80.0 & $\\dots$ \\\\\n",
       "\t7 & SibSp & 0.523008 & 0 & 0.0 & 8 & $\\dots$ \\\\\n",
       "\t8 & Parch & 0.381594 & 0 & 0.0 & 6 & $\\dots$ \\\\\n",
       "\t9 & Ticket &  & 110152 &  & WE/P 5735 & $\\dots$ \\\\\n",
       "\t10 & Fare & 32.2042 & 0.0 & 14.4542 & 512.329 & $\\dots$ \\\\\n",
       "\t11 & Cabin &  & A10 &  & T & $\\dots$ \\\\\n",
       "\t12 & Embarked &  & C &  & S & $\\dots$ \\\\\n",
       "\\end{tabular}\n"
      ],
      "text/plain": [
       "\u001b[1m12×7 DataFrame\u001b[0m\n",
       "\u001b[1m Row \u001b[0m│\u001b[1m variable    \u001b[0m\u001b[1m mean     \u001b[0m\u001b[1m min                 \u001b[0m\u001b[1m median  \u001b[0m\u001b[1m max               \u001b[0m ⋯\n",
       "     │\u001b[90m Symbol      \u001b[0m\u001b[90m Union…   \u001b[0m\u001b[90m Any                 \u001b[0m\u001b[90m Union…  \u001b[0m\u001b[90m Any               \u001b[0m ⋯\n",
       "─────┼──────────────────────────────────────────────────────────────────────────\n",
       "   1 │ PassengerId  446.0     1                    446.0    891                ⋯\n",
       "   2 │ Survived     0.383838  0                    0.0      1\n",
       "   3 │ Pclass       2.30864   1                    3.0      3\n",
       "   4 │ Name        \u001b[90m          \u001b[0m Abbing, Mr. Anthony \u001b[90m         \u001b[0m van Melkebeke, Mr.\n",
       "   5 │ Sex         \u001b[90m          \u001b[0m female              \u001b[90m         \u001b[0m male               ⋯\n",
       "   6 │ Age          29.6991   0.42                 28.0     80.0\n",
       "   7 │ SibSp        0.523008  0                    0.0      8\n",
       "   8 │ Parch        0.381594  0                    0.0      6\n",
       "   9 │ Ticket      \u001b[90m          \u001b[0m 110152              \u001b[90m         \u001b[0m WE/P 5735          ⋯\n",
       "  10 │ Fare         32.2042   0.0                  14.4542  512.329\n",
       "  11 │ Cabin       \u001b[90m          \u001b[0m A10                 \u001b[90m         \u001b[0m T\n",
       "  12 │ Embarked    \u001b[90m          \u001b[0m C                   \u001b[90m         \u001b[0m S\n",
       "\u001b[36m                                                               3 columns omitted\u001b[0m"
      ]
     },
     "execution_count": 68,
     "metadata": {},
     "output_type": "execute_result"
    }
   ],
   "source": [
    "# Print a summary of the titanic DataFrame using the describe function\n",
    "describe(titanic)"
   ]
  },
  {
   "cell_type": "markdown",
   "id": "27b7e64e",
   "metadata": {},
   "source": [
    "Now let's filter the titanic DataFrame to include only survivors and print the first 5 rows:"
   ]
  },
  {
   "cell_type": "code",
   "execution_count": null,
   "id": "ffdc5057",
   "metadata": {},
   "outputs": [
    {
     "data": {
      "text/html": [
       "<div><div style = \"float: left;\"><span>5×12 DataFrame</span></div><div style = \"clear: both;\"></div></div><div class = \"data-frame\" style = \"overflow-x: scroll;\"><table class = \"data-frame\" style = \"margin-bottom: 6px;\"><thead><tr class = \"header\"><th class = \"rowNumber\" style = \"font-weight: bold; text-align: right;\">Row</th><th style = \"text-align: left;\">PassengerId</th><th style = \"text-align: left;\">Survived</th><th style = \"text-align: left;\">Pclass</th><th style = \"text-align: left;\">Name</th><th style = \"text-align: left;\">Sex</th><th style = \"text-align: left;\">Age</th><th style = \"text-align: left;\">SibSp</th><th style = \"text-align: left;\">Parch</th><th style = \"text-align: left;\">Ticket</th><th style = \"text-align: left;\">Fare</th><th style = \"text-align: left;\">Cabin</th><th style = \"text-align: left;\">Embarked</th></tr><tr class = \"subheader headerLastRow\"><th class = \"rowNumber\" style = \"font-weight: bold; text-align: right;\"></th><th title = \"Int64\" style = \"text-align: left;\">Int64</th><th title = \"Int64\" style = \"text-align: left;\">Int64</th><th title = \"Int64\" style = \"text-align: left;\">Int64</th><th title = \"String\" style = \"text-align: left;\">String</th><th title = \"String7\" style = \"text-align: left;\">String7</th><th title = \"Union{Missing, Float64}\" style = \"text-align: left;\">Float64?</th><th title = \"Int64\" style = \"text-align: left;\">Int64</th><th title = \"Int64\" style = \"text-align: left;\">Int64</th><th title = \"String31\" style = \"text-align: left;\">String31</th><th title = \"Float64\" style = \"text-align: left;\">Float64</th><th title = \"Union{Missing, String15}\" style = \"text-align: left;\">String15?</th><th title = \"Union{Missing, String1}\" style = \"text-align: left;\">String1?</th></tr></thead><tbody><tr><td class = \"rowNumber\" style = \"font-weight: bold; text-align: right;\">1</td><td style = \"text-align: right;\">2</td><td style = \"text-align: right;\">1</td><td style = \"text-align: right;\">1</td><td style = \"text-align: left;\">Cumings, Mrs. John Bradley (Florence Briggs Thayer)</td><td style = \"text-align: left;\">female</td><td style = \"text-align: right;\">38.0</td><td style = \"text-align: right;\">1</td><td style = \"text-align: right;\">0</td><td style = \"text-align: left;\">PC 17599</td><td style = \"text-align: right;\">71.2833</td><td style = \"text-align: left;\">C85</td><td style = \"text-align: left;\">C</td></tr><tr><td class = \"rowNumber\" style = \"font-weight: bold; text-align: right;\">2</td><td style = \"text-align: right;\">3</td><td style = \"text-align: right;\">1</td><td style = \"text-align: right;\">3</td><td style = \"text-align: left;\">Heikkinen, Miss. Laina</td><td style = \"text-align: left;\">female</td><td style = \"text-align: right;\">26.0</td><td style = \"text-align: right;\">0</td><td style = \"text-align: right;\">0</td><td style = \"text-align: left;\">STON/O2. 3101282</td><td style = \"text-align: right;\">7.925</td><td style = \"font-style: italic; text-align: left;\">missing</td><td style = \"text-align: left;\">S</td></tr><tr><td class = \"rowNumber\" style = \"font-weight: bold; text-align: right;\">3</td><td style = \"text-align: right;\">4</td><td style = \"text-align: right;\">1</td><td style = \"text-align: right;\">1</td><td style = \"text-align: left;\">Futrelle, Mrs. Jacques Heath (Lily May Peel)</td><td style = \"text-align: left;\">female</td><td style = \"text-align: right;\">35.0</td><td style = \"text-align: right;\">1</td><td style = \"text-align: right;\">0</td><td style = \"text-align: left;\">113803</td><td style = \"text-align: right;\">53.1</td><td style = \"text-align: left;\">C123</td><td style = \"text-align: left;\">S</td></tr><tr><td class = \"rowNumber\" style = \"font-weight: bold; text-align: right;\">4</td><td style = \"text-align: right;\">9</td><td style = \"text-align: right;\">1</td><td style = \"text-align: right;\">3</td><td style = \"text-align: left;\">Johnson, Mrs. Oscar W (Elisabeth Vilhelmina Berg)</td><td style = \"text-align: left;\">female</td><td style = \"text-align: right;\">27.0</td><td style = \"text-align: right;\">0</td><td style = \"text-align: right;\">2</td><td style = \"text-align: left;\">347742</td><td style = \"text-align: right;\">11.1333</td><td style = \"font-style: italic; text-align: left;\">missing</td><td style = \"text-align: left;\">S</td></tr><tr><td class = \"rowNumber\" style = \"font-weight: bold; text-align: right;\">5</td><td style = \"text-align: right;\">10</td><td style = \"text-align: right;\">1</td><td style = \"text-align: right;\">2</td><td style = \"text-align: left;\">Nasser, Mrs. Nicholas (Adele Achem)</td><td style = \"text-align: left;\">female</td><td style = \"text-align: right;\">14.0</td><td style = \"text-align: right;\">1</td><td style = \"text-align: right;\">0</td><td style = \"text-align: left;\">237736</td><td style = \"text-align: right;\">30.0708</td><td style = \"font-style: italic; text-align: left;\">missing</td><td style = \"text-align: left;\">C</td></tr></tbody></table></div>"
      ],
      "text/latex": [
       "\\begin{tabular}{r|ccccc}\n",
       "\t& PassengerId & Survived & Pclass & Name & \\\\\n",
       "\t\\hline\n",
       "\t& Int64 & Int64 & Int64 & String & \\\\\n",
       "\t\\hline\n",
       "\t1 & 2 & 1 & 1 & Cumings, Mrs. John Bradley (Florence Briggs Thayer) & $\\dots$ \\\\\n",
       "\t2 & 3 & 1 & 3 & Heikkinen, Miss. Laina & $\\dots$ \\\\\n",
       "\t3 & 4 & 1 & 1 & Futrelle, Mrs. Jacques Heath (Lily May Peel) & $\\dots$ \\\\\n",
       "\t4 & 9 & 1 & 3 & Johnson, Mrs. Oscar W (Elisabeth Vilhelmina Berg) & $\\dots$ \\\\\n",
       "\t5 & 10 & 1 & 2 & Nasser, Mrs. Nicholas (Adele Achem) & $\\dots$ \\\\\n",
       "\\end{tabular}\n"
      ],
      "text/plain": [
       "\u001b[1m5×12 DataFrame\u001b[0m\n",
       "\u001b[1m Row \u001b[0m│\u001b[1m PassengerId \u001b[0m\u001b[1m Survived \u001b[0m\u001b[1m Pclass \u001b[0m\u001b[1m Name                              \u001b[0m\u001b[1m Sex  \u001b[0m ⋯\n",
       "     │\u001b[90m Int64       \u001b[0m\u001b[90m Int64    \u001b[0m\u001b[90m Int64  \u001b[0m\u001b[90m String                            \u001b[0m\u001b[90m Strin\u001b[0m ⋯\n",
       "─────┼──────────────────────────────────────────────────────────────────────────\n",
       "   1 │           2         1       1  Cumings, Mrs. John Bradley (Flor…  femal ⋯\n",
       "   2 │           3         1       3  Heikkinen, Miss. Laina             femal\n",
       "   3 │           4         1       1  Futrelle, Mrs. Jacques Heath (Li…  femal\n",
       "   4 │           9         1       3  Johnson, Mrs. Oscar W (Elisabeth…  femal\n",
       "   5 │          10         1       2  Nasser, Mrs. Nicholas (Adele Ach…  femal ⋯\n",
       "\u001b[36m                                                               8 columns omitted\u001b[0m"
      ]
     },
     "execution_count": 69,
     "metadata": {},
     "output_type": "execute_result"
    }
   ],
   "source": [
    "# Filter the titanic DataFrame to include only survivors and print the first 5 rows\n",
    "survivors = filter(row -> row.Survived == 1, titanic)\n",
    "first(survivors, 5)"
   ]
  },
  {
   "cell_type": "markdown",
   "id": "60dcc913",
   "metadata": {},
   "source": [
    "We can also calculate the percentage of survivors in the titanic DataFrame:"
   ]
  },
  {
   "cell_type": "code",
   "execution_count": null,
   "id": "1520a1df",
   "metadata": {},
   "outputs": [
    {
     "name": "stdout",
     "output_type": "stream",
     "text": [
      "Proportion of survivors: 0.3838383838383838\n"
     ]
    }
   ],
   "source": [
    "# Calculate the percentage of survivors in the titanic DataFrame\n",
    "prop_survivors = mean(titanic.Survived)\n",
    "println(\"Proportion of survivors: \", prop_survivors)"
   ]
  },
  {
   "cell_type": "markdown",
   "id": "a90sif0j",
   "metadata": {},
   "source": [
    "We can group the titanic DataFrame by passenger class and calculate the average age in each class:"
   ]
  },
  {
   "cell_type": "code",
   "execution_count": null,
   "id": "qowo22i1",
   "metadata": {},
   "outputs": [
    {
     "data": {
      "text/html": [
       "<div><div style = \"float: left;\"><span>3×2 DataFrame</span></div><div style = \"clear: both;\"></div></div><div class = \"data-frame\" style = \"overflow-x: scroll;\"><table class = \"data-frame\" style = \"margin-bottom: 6px;\"><thead><tr class = \"header\"><th class = \"rowNumber\" style = \"font-weight: bold; text-align: right;\">Row</th><th style = \"text-align: left;\">Pclass</th><th style = \"text-align: left;\">AvgAge</th></tr><tr class = \"subheader headerLastRow\"><th class = \"rowNumber\" style = \"font-weight: bold; text-align: right;\"></th><th title = \"Int64\" style = \"text-align: left;\">Int64</th><th title = \"Float64\" style = \"text-align: left;\">Float64</th></tr></thead><tbody><tr><td class = \"rowNumber\" style = \"font-weight: bold; text-align: right;\">1</td><td style = \"text-align: right;\">1</td><td style = \"text-align: right;\">38.2334</td></tr><tr><td class = \"rowNumber\" style = \"font-weight: bold; text-align: right;\">2</td><td style = \"text-align: right;\">2</td><td style = \"text-align: right;\">29.8776</td></tr><tr><td class = \"rowNumber\" style = \"font-weight: bold; text-align: right;\">3</td><td style = \"text-align: right;\">3</td><td style = \"text-align: right;\">25.1406</td></tr></tbody></table></div>"
      ],
      "text/latex": [
       "\\begin{tabular}{r|cc}\n",
       "\t& Pclass & AvgAge\\\\\n",
       "\t\\hline\n",
       "\t& Int64 & Float64\\\\\n",
       "\t\\hline\n",
       "\t1 & 1 & 38.2334 \\\\\n",
       "\t2 & 2 & 29.8776 \\\\\n",
       "\t3 & 3 & 25.1406 \\\\\n",
       "\\end{tabular}\n"
      ],
      "text/plain": [
       "\u001b[1m3×2 DataFrame\u001b[0m\n",
       "\u001b[1m Row \u001b[0m│\u001b[1m Pclass \u001b[0m\u001b[1m AvgAge  \u001b[0m\n",
       "     │\u001b[90m Int64  \u001b[0m\u001b[90m Float64 \u001b[0m\n",
       "─────┼─────────────────\n",
       "   1 │      1  38.2334\n",
       "   2 │      2  29.8776\n",
       "   3 │      3  25.1406"
      ]
     },
     "execution_count": 71,
     "metadata": {},
     "output_type": "execute_result"
    }
   ],
   "source": [
    "# Group the titanic DataFrame by passenger class and calculate the average age in each class, ignoring missing values\n",
    "class_ages = combine(groupby(titanic, :Pclass), :Age => (x -> mean(skipmissing(x))) => :AvgAge)"
   ]
  },
  {
   "cell_type": "markdown",
   "id": "129lldo2",
   "metadata": {},
   "source": [
    "Let's add a new column to the titanic DataFrame that indicates whether a passenger is a child or an adult, based on their age:"
   ]
  },
  {
   "cell_type": "code",
   "execution_count": null,
   "id": "ok28jjdu",
   "metadata": {},
   "outputs": [
    {
     "data": {
      "text/html": [
       "<div><div style = \"float: left;\"><span>5×13 DataFrame</span></div><div style = \"clear: both;\"></div></div><div class = \"data-frame\" style = \"overflow-x: scroll;\"><table class = \"data-frame\" style = \"margin-bottom: 6px;\"><thead><tr class = \"header\"><th class = \"rowNumber\" style = \"font-weight: bold; text-align: right;\">Row</th><th style = \"text-align: left;\">PassengerId</th><th style = \"text-align: left;\">Survived</th><th style = \"text-align: left;\">Pclass</th><th style = \"text-align: left;\">Name</th><th style = \"text-align: left;\">Sex</th><th style = \"text-align: left;\">Age</th><th style = \"text-align: left;\">SibSp</th><th style = \"text-align: left;\">Parch</th><th style = \"text-align: left;\">Ticket</th><th style = \"text-align: left;\">Fare</th><th style = \"text-align: left;\">Cabin</th><th style = \"text-align: left;\">Embarked</th><th style = \"text-align: left;\">Child</th></tr><tr class = \"subheader headerLastRow\"><th class = \"rowNumber\" style = \"font-weight: bold; text-align: right;\"></th><th title = \"Int64\" style = \"text-align: left;\">Int64</th><th title = \"Int64\" style = \"text-align: left;\">Int64</th><th title = \"Int64\" style = \"text-align: left;\">Int64</th><th title = \"String\" style = \"text-align: left;\">String</th><th title = \"String7\" style = \"text-align: left;\">String7</th><th title = \"Union{Missing, Float64}\" style = \"text-align: left;\">Float64?</th><th title = \"Int64\" style = \"text-align: left;\">Int64</th><th title = \"Int64\" style = \"text-align: left;\">Int64</th><th title = \"String31\" style = \"text-align: left;\">String31</th><th title = \"Float64\" style = \"text-align: left;\">Float64</th><th title = \"Union{Missing, String15}\" style = \"text-align: left;\">String15?</th><th title = \"Union{Missing, String1}\" style = \"text-align: left;\">String1?</th><th title = \"Union{Missing, Bool}\" style = \"text-align: left;\">Bool?</th></tr></thead><tbody><tr><td class = \"rowNumber\" style = \"font-weight: bold; text-align: right;\">1</td><td style = \"text-align: right;\">1</td><td style = \"text-align: right;\">0</td><td style = \"text-align: right;\">3</td><td style = \"text-align: left;\">Braund, Mr. Owen Harris</td><td style = \"text-align: left;\">male</td><td style = \"text-align: right;\">22.0</td><td style = \"text-align: right;\">1</td><td style = \"text-align: right;\">0</td><td style = \"text-align: left;\">A/5 21171</td><td style = \"text-align: right;\">7.25</td><td style = \"font-style: italic; text-align: left;\">missing</td><td style = \"text-align: left;\">S</td><td style = \"text-align: right;\">false</td></tr><tr><td class = \"rowNumber\" style = \"font-weight: bold; text-align: right;\">2</td><td style = \"text-align: right;\">2</td><td style = \"text-align: right;\">1</td><td style = \"text-align: right;\">1</td><td style = \"text-align: left;\">Cumings, Mrs. John Bradley (Florence Briggs Thayer)</td><td style = \"text-align: left;\">female</td><td style = \"text-align: right;\">38.0</td><td style = \"text-align: right;\">1</td><td style = \"text-align: right;\">0</td><td style = \"text-align: left;\">PC 17599</td><td style = \"text-align: right;\">71.2833</td><td style = \"text-align: left;\">C85</td><td style = \"text-align: left;\">C</td><td style = \"text-align: right;\">false</td></tr><tr><td class = \"rowNumber\" style = \"font-weight: bold; text-align: right;\">3</td><td style = \"text-align: right;\">3</td><td style = \"text-align: right;\">1</td><td style = \"text-align: right;\">3</td><td style = \"text-align: left;\">Heikkinen, Miss. Laina</td><td style = \"text-align: left;\">female</td><td style = \"text-align: right;\">26.0</td><td style = \"text-align: right;\">0</td><td style = \"text-align: right;\">0</td><td style = \"text-align: left;\">STON/O2. 3101282</td><td style = \"text-align: right;\">7.925</td><td style = \"font-style: italic; text-align: left;\">missing</td><td style = \"text-align: left;\">S</td><td style = \"text-align: right;\">false</td></tr><tr><td class = \"rowNumber\" style = \"font-weight: bold; text-align: right;\">4</td><td style = \"text-align: right;\">4</td><td style = \"text-align: right;\">1</td><td style = \"text-align: right;\">1</td><td style = \"text-align: left;\">Futrelle, Mrs. Jacques Heath (Lily May Peel)</td><td style = \"text-align: left;\">female</td><td style = \"text-align: right;\">35.0</td><td style = \"text-align: right;\">1</td><td style = \"text-align: right;\">0</td><td style = \"text-align: left;\">113803</td><td style = \"text-align: right;\">53.1</td><td style = \"text-align: left;\">C123</td><td style = \"text-align: left;\">S</td><td style = \"text-align: right;\">false</td></tr><tr><td class = \"rowNumber\" style = \"font-weight: bold; text-align: right;\">5</td><td style = \"text-align: right;\">5</td><td style = \"text-align: right;\">0</td><td style = \"text-align: right;\">3</td><td style = \"text-align: left;\">Allen, Mr. William Henry</td><td style = \"text-align: left;\">male</td><td style = \"text-align: right;\">35.0</td><td style = \"text-align: right;\">0</td><td style = \"text-align: right;\">0</td><td style = \"text-align: left;\">373450</td><td style = \"text-align: right;\">8.05</td><td style = \"font-style: italic; text-align: left;\">missing</td><td style = \"text-align: left;\">S</td><td style = \"text-align: right;\">false</td></tr></tbody></table></div>"
      ],
      "text/latex": [
       "\\begin{tabular}{r|ccccc}\n",
       "\t& PassengerId & Survived & Pclass & Name & \\\\\n",
       "\t\\hline\n",
       "\t& Int64 & Int64 & Int64 & String & \\\\\n",
       "\t\\hline\n",
       "\t1 & 1 & 0 & 3 & Braund, Mr. Owen Harris & $\\dots$ \\\\\n",
       "\t2 & 2 & 1 & 1 & Cumings, Mrs. John Bradley (Florence Briggs Thayer) & $\\dots$ \\\\\n",
       "\t3 & 3 & 1 & 3 & Heikkinen, Miss. Laina & $\\dots$ \\\\\n",
       "\t4 & 4 & 1 & 1 & Futrelle, Mrs. Jacques Heath (Lily May Peel) & $\\dots$ \\\\\n",
       "\t5 & 5 & 0 & 3 & Allen, Mr. William Henry & $\\dots$ \\\\\n",
       "\\end{tabular}\n"
      ],
      "text/plain": [
       "\u001b[1m5×13 DataFrame\u001b[0m\n",
       "\u001b[1m Row \u001b[0m│\u001b[1m PassengerId \u001b[0m\u001b[1m Survived \u001b[0m\u001b[1m Pclass \u001b[0m\u001b[1m Name                              \u001b[0m\u001b[1m Sex  \u001b[0m ⋯\n",
       "     │\u001b[90m Int64       \u001b[0m\u001b[90m Int64    \u001b[0m\u001b[90m Int64  \u001b[0m\u001b[90m String                            \u001b[0m\u001b[90m Strin\u001b[0m ⋯\n",
       "─────┼──────────────────────────────────────────────────────────────────────────\n",
       "   1 │           1         0       3  Braund, Mr. Owen Harris            male  ⋯\n",
       "   2 │           2         1       1  Cumings, Mrs. John Bradley (Flor…  femal\n",
       "   3 │           3         1       3  Heikkinen, Miss. Laina             femal\n",
       "   4 │           4         1       1  Futrelle, Mrs. Jacques Heath (Li…  femal\n",
       "   5 │           5         0       3  Allen, Mr. William Henry           male  ⋯\n",
       "\u001b[36m                                                               9 columns omitted\u001b[0m"
      ]
     },
     "execution_count": 72,
     "metadata": {},
     "output_type": "execute_result"
    }
   ],
   "source": [
    "is_child(age) = ismissing(age) ? missing : age < 18\n",
    "titanic[!, :Child] = is_child.(titanic.Age)\n",
    "first(titanic, 5)"
   ]
  },
  {
   "cell_type": "markdown",
   "id": "mcnu2288",
   "metadata": {},
   "source": [
    "We can also group the titanic DataFrame by age category and calculate the proportion of survivors in each category:"
   ]
  },
  {
   "cell_type": "code",
   "execution_count": null,
   "id": "plok2033",
   "metadata": {},
   "outputs": [
    {
     "data": {
      "text/html": [
       "<div><div style = \"float: left;\"><span>3×2 DataFrame</span></div><div style = \"clear: both;\"></div></div><div class = \"data-frame\" style = \"overflow-x: scroll;\"><table class = \"data-frame\" style = \"margin-bottom: 6px;\"><thead><tr class = \"header\"><th class = \"rowNumber\" style = \"font-weight: bold; text-align: right;\">Row</th><th style = \"text-align: left;\">Child</th><th style = \"text-align: left;\">PropSurvivors</th></tr><tr class = \"subheader headerLastRow\"><th class = \"rowNumber\" style = \"font-weight: bold; text-align: right;\"></th><th title = \"Union{Missing, Bool}\" style = \"text-align: left;\">Bool?</th><th title = \"Float64\" style = \"text-align: left;\">Float64</th></tr></thead><tbody><tr><td class = \"rowNumber\" style = \"font-weight: bold; text-align: right;\">1</td><td style = \"text-align: right;\">false</td><td style = \"text-align: right;\">0.381032</td></tr><tr><td class = \"rowNumber\" style = \"font-weight: bold; text-align: right;\">2</td><td style = \"text-align: right;\">true</td><td style = \"text-align: right;\">0.539823</td></tr><tr><td class = \"rowNumber\" style = \"font-weight: bold; text-align: right;\">3</td><td style = \"font-style: italic; text-align: right;\">missing</td><td style = \"text-align: right;\">0.293785</td></tr></tbody></table></div>"
      ],
      "text/latex": [
       "\\begin{tabular}{r|cc}\n",
       "\t& Child & PropSurvivors\\\\\n",
       "\t\\hline\n",
       "\t& Bool? & Float64\\\\\n",
       "\t\\hline\n",
       "\t1 & 0 & 0.381032 \\\\\n",
       "\t2 & 1 & 0.539823 \\\\\n",
       "\t3 & \\emph{missing} & 0.293785 \\\\\n",
       "\\end{tabular}\n"
      ],
      "text/plain": [
       "\u001b[1m3×2 DataFrame\u001b[0m\n",
       "\u001b[1m Row \u001b[0m│\u001b[1m Child   \u001b[0m\u001b[1m PropSurvivors \u001b[0m\n",
       "     │\u001b[90m Bool?   \u001b[0m\u001b[90m Float64       \u001b[0m\n",
       "─────┼────────────────────────\n",
       "   1 │   false       0.381032\n",
       "   2 │    true       0.539823\n",
       "   3 │\u001b[90m missing \u001b[0m      0.293785"
      ]
     },
     "execution_count": 73,
     "metadata": {},
     "output_type": "execute_result"
    }
   ],
   "source": [
    "# Group the titanic DataFrame by age category and calculate the proportion of survivors in each category\n",
    "age_cat_prop_survivors = combine(groupby(titanic, :Child), \n",
    "    :Survived => mean => :PropSurvivors)"
   ]
  },
  {
   "cell_type": "code",
   "execution_count": null,
   "id": "53f9e53d",
   "metadata": {},
   "outputs": [
    {
     "data": {
      "text/html": [
       "<div><div style = \"float: left;\"><span>3×2 DataFrame</span></div><div style = \"clear: both;\"></div></div><div class = \"data-frame\" style = \"overflow-x: scroll;\"><table class = \"data-frame\" style = \"margin-bottom: 6px;\"><thead><tr class = \"header\"><th class = \"rowNumber\" style = \"font-weight: bold; text-align: right;\">Row</th><th style = \"text-align: left;\">Pclass</th><th style = \"text-align: left;\">PropSurvivors</th></tr><tr class = \"subheader headerLastRow\"><th class = \"rowNumber\" style = \"font-weight: bold; text-align: right;\"></th><th title = \"Int64\" style = \"text-align: left;\">Int64</th><th title = \"Float64\" style = \"text-align: left;\">Float64</th></tr></thead><tbody><tr><td class = \"rowNumber\" style = \"font-weight: bold; text-align: right;\">1</td><td style = \"text-align: right;\">1</td><td style = \"text-align: right;\">0.62963</td></tr><tr><td class = \"rowNumber\" style = \"font-weight: bold; text-align: right;\">2</td><td style = \"text-align: right;\">2</td><td style = \"text-align: right;\">0.472826</td></tr><tr><td class = \"rowNumber\" style = \"font-weight: bold; text-align: right;\">3</td><td style = \"text-align: right;\">3</td><td style = \"text-align: right;\">0.242363</td></tr></tbody></table></div>"
      ],
      "text/latex": [
       "\\begin{tabular}{r|cc}\n",
       "\t& Pclass & PropSurvivors\\\\\n",
       "\t\\hline\n",
       "\t& Int64 & Float64\\\\\n",
       "\t\\hline\n",
       "\t1 & 1 & 0.62963 \\\\\n",
       "\t2 & 2 & 0.472826 \\\\\n",
       "\t3 & 3 & 0.242363 \\\\\n",
       "\\end{tabular}\n"
      ],
      "text/plain": [
       "\u001b[1m3×2 DataFrame\u001b[0m\n",
       "\u001b[1m Row \u001b[0m│\u001b[1m Pclass \u001b[0m\u001b[1m PropSurvivors \u001b[0m\n",
       "     │\u001b[90m Int64  \u001b[0m\u001b[90m Float64       \u001b[0m\n",
       "─────┼───────────────────────\n",
       "   1 │      1       0.62963\n",
       "   2 │      2       0.472826\n",
       "   3 │      3       0.242363"
      ]
     },
     "execution_count": 74,
     "metadata": {},
     "output_type": "execute_result"
    }
   ],
   "source": [
    "# Group by passenger class and calculate proportion of survivors in each group\n",
    "class_cat_prop_survivors = combine(groupby(titanic, :Pclass), :Survived => mean => :PropSurvivors)"
   ]
  },
  {
   "cell_type": "markdown",
   "id": "vmos9388",
   "metadata": {},
   "source": [
    "Finally, let's plot the proportion of survivors by age category using the `Plots` package:"
   ]
  },
  {
   "cell_type": "code",
   "execution_count": null,
   "id": "asdkoo0j",
   "metadata": {},
   "outputs": [
    {
     "data": {
      "image/svg+xml": "<?xml version=\"1.0\" encoding=\"utf-8\"?>\n<svg xmlns=\"http://www.w3.org/2000/svg\" xmlns:xlink=\"http://www.w3.org/1999/xlink\" width=\"600\" height=\"400\" viewBox=\"0 0 2400 1600\">\n<defs>\n  <clipPath id=\"clip740\">\n    <rect x=\"0\" y=\"0\" width=\"2400\" height=\"1600\"/>\n  </clipPath>\n</defs>\n<path clip-path=\"url(#clip740)\" d=\"M0 1600 L2400 1600 L2400 0 L0 0  Z\" fill=\"#ffffff\" fill-rule=\"evenodd\" fill-opacity=\"1\"/>\n<defs>\n  <clipPath id=\"clip741\">\n    <rect x=\"480\" y=\"0\" width=\"1681\" height=\"1600\"/>\n  </clipPath>\n</defs>\n<path clip-path=\"url(#clip740)\" d=\"M219.866 1423.18 L2352.76 1423.18 L2352.76 47.2441 L219.866 47.2441  Z\" fill=\"#ffffff\" fill-rule=\"evenodd\" fill-opacity=\"1\"/>\n<defs>\n  <clipPath id=\"clip742\">\n    <rect x=\"219\" y=\"47\" width=\"2134\" height=\"1377\"/>\n  </clipPath>\n</defs>\n<polyline clip-path=\"url(#clip742)\" style=\"stroke:#000000; stroke-linecap:round; stroke-linejoin:round; stroke-width:2; stroke-opacity:0.1; fill:none\" points=\"608.36,1423.18 608.36,47.2441 \"/>\n<polyline clip-path=\"url(#clip742)\" style=\"stroke:#000000; stroke-linecap:round; stroke-linejoin:round; stroke-width:2; stroke-opacity:0.1; fill:none\" points=\"1286.31,1423.18 1286.31,47.2441 \"/>\n<polyline clip-path=\"url(#clip742)\" style=\"stroke:#000000; stroke-linecap:round; stroke-linejoin:round; stroke-width:2; stroke-opacity:0.1; fill:none\" points=\"1964.26,1423.18 1964.26,47.2441 \"/>\n<polyline clip-path=\"url(#clip740)\" style=\"stroke:#000000; stroke-linecap:round; stroke-linejoin:round; stroke-width:4; stroke-opacity:1; fill:none\" points=\"219.866,1423.18 2352.76,1423.18 \"/>\n<polyline clip-path=\"url(#clip740)\" style=\"stroke:#000000; stroke-linecap:round; stroke-linejoin:round; stroke-width:4; stroke-opacity:1; fill:none\" points=\"608.36,1423.18 608.36,1404.28 \"/>\n<polyline clip-path=\"url(#clip740)\" style=\"stroke:#000000; stroke-linecap:round; stroke-linejoin:round; stroke-width:4; stroke-opacity:1; fill:none\" points=\"1286.31,1423.18 1286.31,1404.28 \"/>\n<polyline clip-path=\"url(#clip740)\" style=\"stroke:#000000; stroke-linecap:round; stroke-linejoin:round; stroke-width:4; stroke-opacity:1; fill:none\" points=\"1964.26,1423.18 1964.26,1404.28 \"/>\n<path clip-path=\"url(#clip740)\" d=\"M575.478 1481.64 L583.117 1481.64 L583.117 1455.28 L574.807 1456.95 L574.807 1452.69 L583.07 1451.02 L587.746 1451.02 L587.746 1481.64 L595.385 1481.64 L595.385 1485.58 L575.478 1485.58 L575.478 1481.64 Z\" fill=\"#000000\" fill-rule=\"evenodd\" fill-opacity=\"1\" /><path clip-path=\"url(#clip740)\" d=\"M620.755 1460.42 L620.755 1464.45 Q618.95 1463.52 617.005 1463.06 Q615.061 1462.59 612.978 1462.59 Q609.806 1462.59 608.209 1463.57 Q606.635 1464.54 606.635 1466.48 Q606.635 1467.96 607.769 1468.82 Q608.904 1469.65 612.329 1470.42 L613.788 1470.74 Q618.325 1471.71 620.223 1473.5 Q622.144 1475.26 622.144 1478.43 Q622.144 1482.04 619.274 1484.14 Q616.427 1486.25 611.427 1486.25 Q609.343 1486.25 607.075 1485.83 Q604.83 1485.44 602.33 1484.63 L602.33 1480.23 Q604.691 1481.46 606.982 1482.08 Q609.274 1482.69 611.519 1482.69 Q614.529 1482.69 616.149 1481.67 Q617.769 1480.63 617.769 1478.75 Q617.769 1477.02 616.589 1476.09 Q615.431 1475.16 611.473 1474.31 L609.992 1473.96 Q606.033 1473.13 604.274 1471.41 Q602.515 1469.68 602.515 1466.67 Q602.515 1463.01 605.107 1461.02 Q607.7 1459.03 612.468 1459.03 Q614.829 1459.03 616.913 1459.38 Q618.996 1459.72 620.755 1460.42 Z\" fill=\"#000000\" fill-rule=\"evenodd\" fill-opacity=\"1\" /><path clip-path=\"url(#clip740)\" d=\"M633.14 1452.29 L633.14 1459.65 L641.913 1459.65 L641.913 1462.96 L633.14 1462.96 L633.14 1477.04 Q633.14 1480.21 633.996 1481.11 Q634.876 1482.02 637.538 1482.02 L641.913 1482.02 L641.913 1485.58 L637.538 1485.58 Q632.607 1485.58 630.732 1483.75 Q628.857 1481.9 628.857 1477.04 L628.857 1462.96 L625.732 1462.96 L625.732 1459.65 L628.857 1459.65 L628.857 1452.29 L633.14 1452.29 Z\" fill=\"#000000\" fill-rule=\"evenodd\" fill-opacity=\"1\" /><path clip-path=\"url(#clip740)\" d=\"M1250.67 1481.64 L1266.99 1481.64 L1266.99 1485.58 L1245.05 1485.58 L1245.05 1481.64 Q1247.71 1478.89 1252.3 1474.26 Q1256.9 1469.61 1258.08 1468.27 Q1260.33 1465.74 1261.21 1464.01 Q1262.11 1462.25 1262.11 1460.56 Q1262.11 1457.8 1260.17 1456.07 Q1258.24 1454.33 1255.14 1454.33 Q1252.94 1454.33 1250.49 1455.09 Q1248.06 1455.86 1245.28 1457.41 L1245.28 1452.69 Q1248.11 1451.55 1250.56 1450.97 Q1253.01 1450.39 1255.05 1450.39 Q1260.42 1450.39 1263.61 1453.08 Q1266.81 1455.77 1266.81 1460.26 Q1266.81 1462.39 1266 1464.31 Q1265.21 1466.2 1263.11 1468.8 Q1262.53 1469.47 1259.42 1472.69 Q1256.32 1475.88 1250.67 1481.64 Z\" fill=\"#000000\" fill-rule=\"evenodd\" fill-opacity=\"1\" /><path clip-path=\"url(#clip740)\" d=\"M1297.76 1469.93 L1297.76 1485.58 L1293.5 1485.58 L1293.5 1470.07 Q1293.5 1466.39 1292.06 1464.56 Q1290.63 1462.73 1287.76 1462.73 Q1284.31 1462.73 1282.32 1464.93 Q1280.33 1467.13 1280.33 1470.93 L1280.33 1485.58 L1276.04 1485.58 L1276.04 1459.65 L1280.33 1459.65 L1280.33 1463.68 Q1281.86 1461.34 1283.92 1460.19 Q1286 1459.03 1288.71 1459.03 Q1293.17 1459.03 1295.47 1461.81 Q1297.76 1464.56 1297.76 1469.93 Z\" fill=\"#000000\" fill-rule=\"evenodd\" fill-opacity=\"1\" /><path clip-path=\"url(#clip740)\" d=\"M1323.31 1463.59 L1323.31 1449.56 L1327.57 1449.56 L1327.57 1485.58 L1323.31 1485.58 L1323.31 1481.69 Q1321.97 1484.01 1319.91 1485.14 Q1317.87 1486.25 1315 1486.25 Q1310.3 1486.25 1307.34 1482.5 Q1304.4 1478.75 1304.4 1472.64 Q1304.4 1466.53 1307.34 1462.78 Q1310.3 1459.03 1315 1459.03 Q1317.87 1459.03 1319.91 1460.16 Q1321.97 1461.27 1323.31 1463.59 M1308.8 1472.64 Q1308.8 1477.34 1310.72 1480.02 Q1312.67 1482.69 1316.04 1482.69 Q1319.42 1482.69 1321.37 1480.02 Q1323.31 1477.34 1323.31 1472.64 Q1323.31 1467.94 1321.37 1465.28 Q1319.42 1462.59 1316.04 1462.59 Q1312.67 1462.59 1310.72 1465.28 Q1308.8 1467.94 1308.8 1472.64 Z\" fill=\"#000000\" fill-rule=\"evenodd\" fill-opacity=\"1\" /><path clip-path=\"url(#clip740)\" d=\"M1944.39 1466.95 Q1947.75 1467.66 1949.62 1469.93 Q1951.52 1472.2 1951.52 1475.53 Q1951.52 1480.65 1948 1483.45 Q1944.48 1486.25 1938 1486.25 Q1935.83 1486.25 1933.51 1485.81 Q1931.22 1485.39 1928.77 1484.54 L1928.77 1480.02 Q1930.71 1481.16 1933.02 1481.74 Q1935.34 1482.32 1937.86 1482.32 Q1942.26 1482.32 1944.55 1480.58 Q1946.87 1478.84 1946.87 1475.53 Q1946.87 1472.48 1944.71 1470.77 Q1942.58 1469.03 1938.77 1469.03 L1934.74 1469.03 L1934.74 1465.19 L1938.95 1465.19 Q1942.4 1465.19 1944.23 1463.82 Q1946.06 1462.43 1946.06 1459.84 Q1946.06 1457.18 1944.16 1455.77 Q1942.28 1454.33 1938.77 1454.33 Q1936.84 1454.33 1934.64 1454.75 Q1932.45 1455.16 1929.81 1456.04 L1929.81 1451.88 Q1932.47 1451.14 1934.78 1450.77 Q1937.12 1450.39 1939.18 1450.39 Q1944.51 1450.39 1947.61 1452.83 Q1950.71 1455.23 1950.71 1459.35 Q1950.71 1462.22 1949.07 1464.21 Q1947.42 1466.18 1944.39 1466.95 Z\" fill=\"#000000\" fill-rule=\"evenodd\" fill-opacity=\"1\" /><path clip-path=\"url(#clip740)\" d=\"M1974.81 1463.64 Q1974.09 1463.22 1973.23 1463.03 Q1972.4 1462.83 1971.38 1462.83 Q1967.77 1462.83 1965.83 1465.19 Q1963.9 1467.52 1963.9 1471.92 L1963.9 1485.58 L1959.62 1485.58 L1959.62 1459.65 L1963.9 1459.65 L1963.9 1463.68 Q1965.25 1461.32 1967.4 1460.19 Q1969.55 1459.03 1972.63 1459.03 Q1973.07 1459.03 1973.6 1459.1 Q1974.14 1459.14 1974.78 1459.26 L1974.81 1463.64 Z\" fill=\"#000000\" fill-rule=\"evenodd\" fill-opacity=\"1\" /><path clip-path=\"url(#clip740)\" d=\"M1995.5 1463.59 L1995.5 1449.56 L1999.76 1449.56 L1999.76 1485.58 L1995.5 1485.58 L1995.5 1481.69 Q1994.16 1484.01 1992.1 1485.14 Q1990.06 1486.25 1987.19 1486.25 Q1982.49 1486.25 1979.53 1482.5 Q1976.59 1478.75 1976.59 1472.64 Q1976.59 1466.53 1979.53 1462.78 Q1982.49 1459.03 1987.19 1459.03 Q1990.06 1459.03 1992.1 1460.16 Q1994.16 1461.27 1995.5 1463.59 M1980.99 1472.64 Q1980.99 1477.34 1982.91 1480.02 Q1984.85 1482.69 1988.23 1482.69 Q1991.61 1482.69 1993.56 1480.02 Q1995.5 1477.34 1995.5 1472.64 Q1995.5 1467.94 1993.56 1465.28 Q1991.61 1462.59 1988.23 1462.59 Q1984.85 1462.59 1982.91 1465.28 Q1980.99 1467.94 1980.99 1472.64 Z\" fill=\"#000000\" fill-rule=\"evenodd\" fill-opacity=\"1\" /><path clip-path=\"url(#clip740)\" d=\"M1242.31 1524.18 L1242.31 1530.96 Q1239.06 1527.94 1235.37 1526.44 Q1231.71 1524.95 1227.57 1524.95 Q1219.42 1524.95 1215.09 1529.95 Q1210.77 1534.91 1210.77 1544.33 Q1210.77 1553.72 1215.09 1558.72 Q1219.42 1563.68 1227.57 1563.68 Q1231.71 1563.68 1235.37 1562.19 Q1239.06 1560.69 1242.31 1557.67 L1242.31 1564.38 Q1238.93 1566.68 1235.15 1567.82 Q1231.39 1568.97 1227.19 1568.97 Q1216.4 1568.97 1210.19 1562.38 Q1203.99 1555.76 1203.99 1544.33 Q1203.99 1532.87 1210.19 1526.28 Q1216.4 1519.66 1227.19 1519.66 Q1231.45 1519.66 1235.21 1520.81 Q1239 1521.92 1242.31 1524.18 Z\" fill=\"#000000\" fill-rule=\"evenodd\" fill-opacity=\"1\" /><path clip-path=\"url(#clip740)\" d=\"M1251.98 1518.52 L1257.84 1518.52 L1257.84 1568.04 L1251.98 1568.04 L1251.98 1518.52 Z\" fill=\"#000000\" fill-rule=\"evenodd\" fill-opacity=\"1\" /><path clip-path=\"url(#clip740)\" d=\"M1286.3 1550.12 Q1279.2 1550.12 1276.46 1551.75 Q1273.72 1553.37 1273.72 1557.29 Q1273.72 1560.4 1275.76 1562.25 Q1277.83 1564.07 1281.36 1564.07 Q1286.23 1564.07 1289.16 1560.63 Q1292.12 1557.16 1292.12 1551.43 L1292.12 1550.12 L1286.3 1550.12 M1297.98 1547.71 L1297.98 1568.04 L1292.12 1568.04 L1292.12 1562.63 Q1290.11 1565.88 1287.12 1567.44 Q1284.13 1568.97 1279.8 1568.97 Q1274.33 1568.97 1271.08 1565.91 Q1267.87 1562.82 1267.87 1557.67 Q1267.87 1551.65 1271.88 1548.6 Q1275.92 1545.54 1283.91 1545.54 L1292.12 1545.54 L1292.12 1544.97 Q1292.12 1540.93 1289.45 1538.73 Q1286.8 1536.5 1282 1536.5 Q1278.94 1536.5 1276.05 1537.23 Q1273.15 1537.97 1270.48 1539.43 L1270.48 1534.02 Q1273.69 1532.78 1276.71 1532.17 Q1279.74 1531.54 1282.6 1531.54 Q1290.34 1531.54 1294.16 1535.55 Q1297.98 1539.56 1297.98 1547.71 Z\" fill=\"#000000\" fill-rule=\"evenodd\" fill-opacity=\"1\" /><path clip-path=\"url(#clip740)\" d=\"M1332.76 1533.45 L1332.76 1538.98 Q1330.28 1537.71 1327.61 1537.07 Q1324.94 1536.44 1322.07 1536.44 Q1317.71 1536.44 1315.51 1537.77 Q1313.35 1539.11 1313.35 1541.79 Q1313.35 1543.82 1314.91 1545 Q1316.47 1546.15 1321.18 1547.2 L1323.18 1547.64 Q1329.42 1548.98 1332.03 1551.43 Q1334.67 1553.85 1334.67 1558.21 Q1334.67 1563.17 1330.73 1566.07 Q1326.81 1568.97 1319.94 1568.97 Q1317.07 1568.97 1313.95 1568.39 Q1310.87 1567.85 1307.43 1566.74 L1307.43 1560.69 Q1310.68 1562.38 1313.83 1563.24 Q1316.98 1564.07 1320.07 1564.07 Q1324.2 1564.07 1326.43 1562.66 Q1328.66 1561.23 1328.66 1558.65 Q1328.66 1556.27 1327.04 1554.99 Q1325.44 1553.72 1320 1552.54 L1317.96 1552.07 Q1312.52 1550.92 1310.1 1548.56 Q1307.68 1546.18 1307.68 1542.04 Q1307.68 1537.01 1311.25 1534.27 Q1314.81 1531.54 1321.37 1531.54 Q1324.62 1531.54 1327.48 1532.01 Q1330.35 1532.49 1332.76 1533.45 Z\" fill=\"#000000\" fill-rule=\"evenodd\" fill-opacity=\"1\" /><path clip-path=\"url(#clip740)\" d=\"M1366.73 1533.45 L1366.73 1538.98 Q1364.24 1537.71 1361.57 1537.07 Q1358.9 1536.44 1356.03 1536.44 Q1351.67 1536.44 1349.47 1537.77 Q1347.31 1539.11 1347.31 1541.79 Q1347.31 1543.82 1348.87 1545 Q1350.43 1546.15 1355.14 1547.2 L1357.15 1547.64 Q1363.38 1548.98 1365.99 1551.43 Q1368.64 1553.85 1368.64 1558.21 Q1368.64 1563.17 1364.69 1566.07 Q1360.77 1568.97 1353.9 1568.97 Q1351.03 1568.97 1347.92 1568.39 Q1344.83 1567.85 1341.39 1566.74 L1341.39 1560.69 Q1344.64 1562.38 1347.79 1563.24 Q1350.94 1564.07 1354.03 1564.07 Q1358.16 1564.07 1360.39 1562.66 Q1362.62 1561.23 1362.62 1558.65 Q1362.62 1556.27 1361 1554.99 Q1359.41 1553.72 1353.96 1552.54 L1351.93 1552.07 Q1346.48 1550.92 1344.06 1548.56 Q1341.64 1546.18 1341.64 1542.04 Q1341.64 1537.01 1345.21 1534.27 Q1348.77 1531.54 1355.33 1531.54 Q1358.58 1531.54 1361.44 1532.01 Q1364.31 1532.49 1366.73 1533.45 Z\" fill=\"#000000\" fill-rule=\"evenodd\" fill-opacity=\"1\" /><polyline clip-path=\"url(#clip742)\" style=\"stroke:#000000; stroke-linecap:round; stroke-linejoin:round; stroke-width:2; stroke-opacity:0.1; fill:none\" points=\"219.866,1384.24 2352.76,1384.24 \"/>\n<polyline clip-path=\"url(#clip742)\" style=\"stroke:#000000; stroke-linecap:round; stroke-linejoin:round; stroke-width:2; stroke-opacity:0.1; fill:none\" points=\"219.866,1178.08 2352.76,1178.08 \"/>\n<polyline clip-path=\"url(#clip742)\" style=\"stroke:#000000; stroke-linecap:round; stroke-linejoin:round; stroke-width:2; stroke-opacity:0.1; fill:none\" points=\"219.866,971.916 2352.76,971.916 \"/>\n<polyline clip-path=\"url(#clip742)\" style=\"stroke:#000000; stroke-linecap:round; stroke-linejoin:round; stroke-width:2; stroke-opacity:0.1; fill:none\" points=\"219.866,765.754 2352.76,765.754 \"/>\n<polyline clip-path=\"url(#clip742)\" style=\"stroke:#000000; stroke-linecap:round; stroke-linejoin:round; stroke-width:2; stroke-opacity:0.1; fill:none\" points=\"219.866,559.593 2352.76,559.593 \"/>\n<polyline clip-path=\"url(#clip742)\" style=\"stroke:#000000; stroke-linecap:round; stroke-linejoin:round; stroke-width:2; stroke-opacity:0.1; fill:none\" points=\"219.866,353.432 2352.76,353.432 \"/>\n<polyline clip-path=\"url(#clip742)\" style=\"stroke:#000000; stroke-linecap:round; stroke-linejoin:round; stroke-width:2; stroke-opacity:0.1; fill:none\" points=\"219.866,147.271 2352.76,147.271 \"/>\n<polyline clip-path=\"url(#clip740)\" style=\"stroke:#000000; stroke-linecap:round; stroke-linejoin:round; stroke-width:4; stroke-opacity:1; fill:none\" points=\"219.866,1423.18 219.866,47.2441 \"/>\n<polyline clip-path=\"url(#clip740)\" style=\"stroke:#000000; stroke-linecap:round; stroke-linejoin:round; stroke-width:4; stroke-opacity:1; fill:none\" points=\"219.866,1384.24 238.764,1384.24 \"/>\n<polyline clip-path=\"url(#clip740)\" style=\"stroke:#000000; stroke-linecap:round; stroke-linejoin:round; stroke-width:4; stroke-opacity:1; fill:none\" points=\"219.866,1178.08 238.764,1178.08 \"/>\n<polyline clip-path=\"url(#clip740)\" style=\"stroke:#000000; stroke-linecap:round; stroke-linejoin:round; stroke-width:4; stroke-opacity:1; fill:none\" points=\"219.866,971.916 238.764,971.916 \"/>\n<polyline clip-path=\"url(#clip740)\" style=\"stroke:#000000; stroke-linecap:round; stroke-linejoin:round; stroke-width:4; stroke-opacity:1; fill:none\" points=\"219.866,765.754 238.764,765.754 \"/>\n<polyline clip-path=\"url(#clip740)\" style=\"stroke:#000000; stroke-linecap:round; stroke-linejoin:round; stroke-width:4; stroke-opacity:1; fill:none\" points=\"219.866,559.593 238.764,559.593 \"/>\n<polyline clip-path=\"url(#clip740)\" style=\"stroke:#000000; stroke-linecap:round; stroke-linejoin:round; stroke-width:4; stroke-opacity:1; fill:none\" points=\"219.866,353.432 238.764,353.432 \"/>\n<polyline clip-path=\"url(#clip740)\" style=\"stroke:#000000; stroke-linecap:round; stroke-linejoin:round; stroke-width:4; stroke-opacity:1; fill:none\" points=\"219.866,147.271 238.764,147.271 \"/>\n<path clip-path=\"url(#clip740)\" d=\"M126.691 1370.04 Q123.08 1370.04 121.251 1373.6 Q119.445 1377.14 119.445 1384.27 Q119.445 1391.38 121.251 1394.94 Q123.08 1398.49 126.691 1398.49 Q130.325 1398.49 132.13 1394.94 Q133.959 1391.38 133.959 1384.27 Q133.959 1377.14 132.13 1373.6 Q130.325 1370.04 126.691 1370.04 M126.691 1366.33 Q132.501 1366.33 135.556 1370.94 Q138.635 1375.52 138.635 1384.27 Q138.635 1393 135.556 1397.61 Q132.501 1402.19 126.691 1402.19 Q120.88 1402.19 117.802 1397.61 Q114.746 1393 114.746 1384.27 Q114.746 1375.52 117.802 1370.94 Q120.88 1366.33 126.691 1366.33 Z\" fill=\"#000000\" fill-rule=\"evenodd\" fill-opacity=\"1\" /><path clip-path=\"url(#clip740)\" d=\"M146.853 1395.64 L151.737 1395.64 L151.737 1401.52 L146.853 1401.52 L146.853 1395.64 Z\" fill=\"#000000\" fill-rule=\"evenodd\" fill-opacity=\"1\" /><path clip-path=\"url(#clip740)\" d=\"M171.922 1370.04 Q168.311 1370.04 166.482 1373.6 Q164.677 1377.14 164.677 1384.27 Q164.677 1391.38 166.482 1394.94 Q168.311 1398.49 171.922 1398.49 Q175.556 1398.49 177.362 1394.94 Q179.19 1391.38 179.19 1384.27 Q179.19 1377.14 177.362 1373.6 Q175.556 1370.04 171.922 1370.04 M171.922 1366.33 Q177.732 1366.33 180.788 1370.94 Q183.866 1375.52 183.866 1384.27 Q183.866 1393 180.788 1397.61 Q177.732 1402.19 171.922 1402.19 Q166.112 1402.19 163.033 1397.61 Q159.978 1393 159.978 1384.27 Q159.978 1375.52 163.033 1370.94 Q166.112 1366.33 171.922 1366.33 Z\" fill=\"#000000\" fill-rule=\"evenodd\" fill-opacity=\"1\" /><path clip-path=\"url(#clip740)\" d=\"M127.917 1163.88 Q124.306 1163.88 122.478 1167.44 Q120.672 1170.98 120.672 1178.11 Q120.672 1185.22 122.478 1188.78 Q124.306 1192.32 127.917 1192.32 Q131.552 1192.32 133.357 1188.78 Q135.186 1185.22 135.186 1178.11 Q135.186 1170.98 133.357 1167.44 Q131.552 1163.88 127.917 1163.88 M127.917 1160.17 Q133.728 1160.17 136.783 1164.78 Q139.862 1169.36 139.862 1178.11 Q139.862 1186.84 136.783 1191.44 Q133.728 1196.03 127.917 1196.03 Q122.107 1196.03 119.029 1191.44 Q115.973 1186.84 115.973 1178.11 Q115.973 1169.36 119.029 1164.78 Q122.107 1160.17 127.917 1160.17 Z\" fill=\"#000000\" fill-rule=\"evenodd\" fill-opacity=\"1\" /><path clip-path=\"url(#clip740)\" d=\"M148.079 1189.48 L152.964 1189.48 L152.964 1195.36 L148.079 1195.36 L148.079 1189.48 Z\" fill=\"#000000\" fill-rule=\"evenodd\" fill-opacity=\"1\" /><path clip-path=\"url(#clip740)\" d=\"M163.959 1191.42 L171.598 1191.42 L171.598 1165.06 L163.288 1166.72 L163.288 1162.46 L171.552 1160.8 L176.227 1160.8 L176.227 1191.42 L183.866 1191.42 L183.866 1195.36 L163.959 1195.36 L163.959 1191.42 Z\" fill=\"#000000\" fill-rule=\"evenodd\" fill-opacity=\"1\" /><path clip-path=\"url(#clip740)\" d=\"M128.288 957.714 Q124.677 957.714 122.848 961.279 Q121.043 964.821 121.043 971.95 Q121.043 979.057 122.848 982.622 Q124.677 986.163 128.288 986.163 Q131.922 986.163 133.728 982.622 Q135.556 979.057 135.556 971.95 Q135.556 964.821 133.728 961.279 Q131.922 957.714 128.288 957.714 M128.288 954.011 Q134.098 954.011 137.154 958.617 Q140.232 963.2 140.232 971.95 Q140.232 980.677 137.154 985.284 Q134.098 989.867 128.288 989.867 Q122.478 989.867 119.399 985.284 Q116.343 980.677 116.343 971.95 Q116.343 963.2 119.399 958.617 Q122.478 954.011 128.288 954.011 Z\" fill=\"#000000\" fill-rule=\"evenodd\" fill-opacity=\"1\" /><path clip-path=\"url(#clip740)\" d=\"M148.45 983.316 L153.334 983.316 L153.334 989.196 L148.45 989.196 L148.45 983.316 Z\" fill=\"#000000\" fill-rule=\"evenodd\" fill-opacity=\"1\" /><path clip-path=\"url(#clip740)\" d=\"M167.547 985.261 L183.866 985.261 L183.866 989.196 L161.922 989.196 L161.922 985.261 Q164.584 982.506 169.167 977.876 Q173.774 973.224 174.954 971.881 Q177.2 969.358 178.079 967.622 Q178.982 965.862 178.982 964.173 Q178.982 961.418 177.038 959.682 Q175.116 957.946 172.014 957.946 Q169.815 957.946 167.362 958.71 Q164.931 959.474 162.153 961.025 L162.153 956.302 Q164.977 955.168 167.431 954.589 Q169.885 954.011 171.922 954.011 Q177.292 954.011 180.487 956.696 Q183.681 959.381 183.681 963.872 Q183.681 966.001 182.871 967.923 Q182.084 969.821 179.977 972.413 Q179.399 973.085 176.297 976.302 Q173.195 979.497 167.547 985.261 Z\" fill=\"#000000\" fill-rule=\"evenodd\" fill-opacity=\"1\" /><path clip-path=\"url(#clip740)\" d=\"M127.339 751.553 Q123.728 751.553 121.899 755.118 Q120.093 758.66 120.093 765.789 Q120.093 772.896 121.899 776.46 Q123.728 780.002 127.339 780.002 Q130.973 780.002 132.779 776.46 Q134.607 772.896 134.607 765.789 Q134.607 758.66 132.779 755.118 Q130.973 751.553 127.339 751.553 M127.339 747.849 Q133.149 747.849 136.204 752.456 Q139.283 757.039 139.283 765.789 Q139.283 774.516 136.204 779.122 Q133.149 783.706 127.339 783.706 Q121.529 783.706 118.45 779.122 Q115.394 774.516 115.394 765.789 Q115.394 757.039 118.45 752.456 Q121.529 747.849 127.339 747.849 Z\" fill=\"#000000\" fill-rule=\"evenodd\" fill-opacity=\"1\" /><path clip-path=\"url(#clip740)\" d=\"M147.501 777.155 L152.385 777.155 L152.385 783.034 L147.501 783.034 L147.501 777.155 Z\" fill=\"#000000\" fill-rule=\"evenodd\" fill-opacity=\"1\" /><path clip-path=\"url(#clip740)\" d=\"M176.737 764.4 Q180.093 765.118 181.968 767.386 Q183.866 769.655 183.866 772.988 Q183.866 778.104 180.348 780.905 Q176.829 783.706 170.348 783.706 Q168.172 783.706 165.857 783.266 Q163.565 782.849 161.112 781.993 L161.112 777.479 Q163.056 778.613 165.371 779.192 Q167.686 779.771 170.209 779.771 Q174.607 779.771 176.899 778.034 Q179.214 776.298 179.214 772.988 Q179.214 769.933 177.061 768.22 Q174.931 766.484 171.112 766.484 L167.084 766.484 L167.084 762.641 L171.297 762.641 Q174.746 762.641 176.575 761.275 Q178.403 759.886 178.403 757.294 Q178.403 754.632 176.505 753.22 Q174.63 751.785 171.112 751.785 Q169.19 751.785 166.991 752.201 Q164.792 752.618 162.153 753.498 L162.153 749.331 Q164.815 748.59 167.13 748.22 Q169.468 747.849 171.528 747.849 Q176.852 747.849 179.954 750.28 Q183.056 752.687 183.056 756.808 Q183.056 759.678 181.413 761.669 Q179.769 763.636 176.737 764.4 Z\" fill=\"#000000\" fill-rule=\"evenodd\" fill-opacity=\"1\" /><path clip-path=\"url(#clip740)\" d=\"M126.205 545.392 Q122.593 545.392 120.765 548.957 Q118.959 552.498 118.959 559.628 Q118.959 566.734 120.765 570.299 Q122.593 573.841 126.205 573.841 Q129.839 573.841 131.644 570.299 Q133.473 566.734 133.473 559.628 Q133.473 552.498 131.644 548.957 Q129.839 545.392 126.205 545.392 M126.205 541.688 Q132.015 541.688 135.07 546.295 Q138.149 550.878 138.149 559.628 Q138.149 568.355 135.07 572.961 Q132.015 577.544 126.205 577.544 Q120.394 577.544 117.316 572.961 Q114.26 568.355 114.26 559.628 Q114.26 550.878 117.316 546.295 Q120.394 541.688 126.205 541.688 Z\" fill=\"#000000\" fill-rule=\"evenodd\" fill-opacity=\"1\" /><path clip-path=\"url(#clip740)\" d=\"M146.366 570.993 L151.251 570.993 L151.251 576.873 L146.366 576.873 L146.366 570.993 Z\" fill=\"#000000\" fill-rule=\"evenodd\" fill-opacity=\"1\" /><path clip-path=\"url(#clip740)\" d=\"M174.283 546.387 L162.477 564.836 L174.283 564.836 L174.283 546.387 M173.056 542.313 L178.936 542.313 L178.936 564.836 L183.866 564.836 L183.866 568.725 L178.936 568.725 L178.936 576.873 L174.283 576.873 L174.283 568.725 L158.681 568.725 L158.681 564.211 L173.056 542.313 Z\" fill=\"#000000\" fill-rule=\"evenodd\" fill-opacity=\"1\" /><path clip-path=\"url(#clip740)\" d=\"M127.686 339.23 Q124.075 339.23 122.246 342.795 Q120.441 346.337 120.441 353.467 Q120.441 360.573 122.246 364.138 Q124.075 367.679 127.686 367.679 Q131.32 367.679 133.126 364.138 Q134.954 360.573 134.954 353.467 Q134.954 346.337 133.126 342.795 Q131.32 339.23 127.686 339.23 M127.686 335.527 Q133.496 335.527 136.552 340.133 Q139.63 344.717 139.63 353.467 Q139.63 362.193 136.552 366.8 Q133.496 371.383 127.686 371.383 Q121.876 371.383 118.797 366.8 Q115.742 362.193 115.742 353.467 Q115.742 344.717 118.797 340.133 Q121.876 335.527 127.686 335.527 Z\" fill=\"#000000\" fill-rule=\"evenodd\" fill-opacity=\"1\" /><path clip-path=\"url(#clip740)\" d=\"M147.848 364.832 L152.732 364.832 L152.732 370.712 L147.848 370.712 L147.848 364.832 Z\" fill=\"#000000\" fill-rule=\"evenodd\" fill-opacity=\"1\" /><path clip-path=\"url(#clip740)\" d=\"M162.964 336.152 L181.32 336.152 L181.32 340.087 L167.246 340.087 L167.246 348.559 Q168.264 348.212 169.283 348.05 Q170.302 347.865 171.32 347.865 Q177.107 347.865 180.487 351.036 Q183.866 354.207 183.866 359.624 Q183.866 365.203 180.394 368.304 Q176.922 371.383 170.602 371.383 Q168.427 371.383 166.158 371.013 Q163.913 370.642 161.505 369.902 L161.505 365.203 Q163.589 366.337 165.811 366.892 Q168.033 367.448 170.51 367.448 Q174.514 367.448 176.852 365.341 Q179.19 363.235 179.19 359.624 Q179.19 356.013 176.852 353.906 Q174.514 351.8 170.51 351.8 Q168.635 351.8 166.76 352.217 Q164.908 352.633 162.964 353.513 L162.964 336.152 Z\" fill=\"#000000\" fill-rule=\"evenodd\" fill-opacity=\"1\" /><path clip-path=\"url(#clip740)\" d=\"M126.529 133.069 Q122.918 133.069 121.089 136.634 Q119.283 140.176 119.283 147.305 Q119.283 154.412 121.089 157.976 Q122.918 161.518 126.529 161.518 Q130.163 161.518 131.968 157.976 Q133.797 154.412 133.797 147.305 Q133.797 140.176 131.968 136.634 Q130.163 133.069 126.529 133.069 M126.529 129.366 Q132.339 129.366 135.394 133.972 Q138.473 138.555 138.473 147.305 Q138.473 156.032 135.394 160.638 Q132.339 165.222 126.529 165.222 Q120.718 165.222 117.64 160.638 Q114.584 156.032 114.584 147.305 Q114.584 138.555 117.64 133.972 Q120.718 129.366 126.529 129.366 Z\" fill=\"#000000\" fill-rule=\"evenodd\" fill-opacity=\"1\" /><path clip-path=\"url(#clip740)\" d=\"M146.691 158.671 L151.575 158.671 L151.575 164.551 L146.691 164.551 L146.691 158.671 Z\" fill=\"#000000\" fill-rule=\"evenodd\" fill-opacity=\"1\" /><path clip-path=\"url(#clip740)\" d=\"M172.339 145.407 Q169.19 145.407 167.339 147.56 Q165.51 149.713 165.51 153.463 Q165.51 157.189 167.339 159.365 Q169.19 161.518 172.339 161.518 Q175.487 161.518 177.315 159.365 Q179.167 157.189 179.167 153.463 Q179.167 149.713 177.315 147.56 Q175.487 145.407 172.339 145.407 M181.621 130.754 L181.621 135.014 Q179.862 134.18 178.056 133.74 Q176.274 133.301 174.514 133.301 Q169.885 133.301 167.431 136.426 Q165.001 139.551 164.653 145.87 Q166.019 143.856 168.079 142.791 Q170.139 141.703 172.616 141.703 Q177.825 141.703 180.834 144.875 Q183.866 148.023 183.866 153.463 Q183.866 158.787 180.718 162.004 Q177.57 165.222 172.339 165.222 Q166.343 165.222 163.172 160.638 Q160.001 156.032 160.001 147.305 Q160.001 139.111 163.89 134.25 Q167.778 129.366 174.329 129.366 Q176.089 129.366 177.871 129.713 Q179.676 130.06 181.621 130.754 Z\" fill=\"#000000\" fill-rule=\"evenodd\" fill-opacity=\"1\" /><path clip-path=\"url(#clip740)\" d=\"M21.7677 1096.99 L39.6235 1096.99 L39.6235 1088.91 Q39.6235 1084.42 37.3 1081.97 Q34.9765 1079.52 30.6797 1079.52 Q26.4147 1079.52 24.0912 1081.97 Q21.7677 1084.42 21.7677 1088.91 L21.7677 1096.99 M16.4842 1103.42 L16.4842 1088.91 Q16.4842 1080.92 20.1126 1076.84 Q23.7092 1072.74 30.6797 1072.74 Q37.7138 1072.74 41.3104 1076.84 Q44.907 1080.92 44.907 1088.91 L44.907 1096.99 L64.0042 1096.99 L64.0042 1103.42 L16.4842 1103.42 Z\" fill=\"#000000\" fill-rule=\"evenodd\" fill-opacity=\"1\" /><path clip-path=\"url(#clip740)\" d=\"M33.8307 1044.86 Q33.2578 1045.84 33.0032 1047.02 Q32.7167 1048.17 32.7167 1049.57 Q32.7167 1054.53 35.9632 1057.21 Q39.1779 1059.85 45.2253 1059.85 L64.0042 1059.85 L64.0042 1065.74 L28.3562 1065.74 L28.3562 1059.85 L33.8944 1059.85 Q30.6479 1058 29.0883 1055.04 Q27.4968 1052.08 27.4968 1047.85 Q27.4968 1047.24 27.5923 1046.51 Q27.656 1045.78 27.8151 1044.89 L33.8307 1044.86 Z\" fill=\"#000000\" fill-rule=\"evenodd\" fill-opacity=\"1\" /><path clip-path=\"url(#clip740)\" d=\"M32.4621 1026.33 Q32.4621 1031.04 36.1542 1033.78 Q39.8145 1036.52 46.212 1036.52 Q52.6095 1036.52 56.3017 1033.81 Q59.9619 1031.07 59.9619 1026.33 Q59.9619 1021.65 56.2698 1018.92 Q52.5777 1016.18 46.212 1016.18 Q39.8781 1016.18 36.186 1018.92 Q32.4621 1021.65 32.4621 1026.33 M27.4968 1026.33 Q27.4968 1018.69 32.4621 1014.33 Q37.4273 1009.97 46.212 1009.97 Q54.9649 1009.97 59.9619 1014.33 Q64.9272 1018.69 64.9272 1026.33 Q64.9272 1034 59.9619 1038.36 Q54.9649 1042.69 46.212 1042.69 Q37.4273 1042.69 32.4621 1038.36 Q27.4968 1034 27.4968 1026.33 Z\" fill=\"#000000\" fill-rule=\"evenodd\" fill-opacity=\"1\" /><path clip-path=\"url(#clip740)\" d=\"M58.657 994.599 L77.5631 994.599 L77.5631 1000.49 L28.3562 1000.49 L28.3562 994.599 L33.7671 994.599 Q30.5842 992.753 29.0564 989.952 Q27.4968 987.119 27.4968 983.204 Q27.4968 976.711 32.6531 972.669 Q37.8093 968.595 46.212 968.595 Q54.6147 968.595 59.771 972.669 Q64.9272 976.711 64.9272 983.204 Q64.9272 987.119 63.3994 989.952 Q61.8398 992.753 58.657 994.599 M46.212 974.674 Q39.7508 974.674 36.0905 977.348 Q32.3984 979.989 32.3984 984.636 Q32.3984 989.283 36.0905 991.957 Q39.7508 994.599 46.212 994.599 Q52.6732 994.599 56.3653 991.957 Q60.0256 989.283 60.0256 984.636 Q60.0256 979.989 56.3653 977.348 Q52.6732 974.674 46.212 974.674 Z\" fill=\"#000000\" fill-rule=\"evenodd\" fill-opacity=\"1\" /><path clip-path=\"url(#clip740)\" d=\"M32.4621 945.073 Q32.4621 949.784 36.1542 952.521 Q39.8145 955.259 46.212 955.259 Q52.6095 955.259 56.3017 952.553 Q59.9619 949.816 59.9619 945.073 Q59.9619 940.395 56.2698 937.657 Q52.5777 934.92 46.212 934.92 Q39.8781 934.92 36.186 937.657 Q32.4621 940.395 32.4621 945.073 M27.4968 945.073 Q27.4968 937.435 32.4621 933.074 Q37.4273 928.714 46.212 928.714 Q54.9649 928.714 59.9619 933.074 Q64.9272 937.435 64.9272 945.073 Q64.9272 952.744 59.9619 957.105 Q54.9649 961.433 46.212 961.433 Q37.4273 961.433 32.4621 957.105 Q27.4968 952.744 27.4968 945.073 Z\" fill=\"#000000\" fill-rule=\"evenodd\" fill-opacity=\"1\" /><path clip-path=\"url(#clip740)\" d=\"M33.8307 898.349 Q33.2578 899.336 33.0032 900.513 Q32.7167 901.659 32.7167 903.06 Q32.7167 908.025 35.9632 910.699 Q39.1779 913.34 45.2253 913.34 L64.0042 913.34 L64.0042 919.229 L28.3562 919.229 L28.3562 913.34 L33.8944 913.34 Q30.6479 911.494 29.0883 908.534 Q27.4968 905.574 27.4968 901.341 Q27.4968 900.736 27.5923 900.004 Q27.656 899.272 27.8151 898.381 L33.8307 898.349 Z\" fill=\"#000000\" fill-rule=\"evenodd\" fill-opacity=\"1\" /><path clip-path=\"url(#clip740)\" d=\"M18.2347 886.413 L28.3562 886.413 L28.3562 874.35 L32.9077 874.35 L32.9077 886.413 L52.2594 886.413 Q56.6199 886.413 57.8613 885.236 Q59.1026 884.026 59.1026 880.366 L59.1026 874.35 L64.0042 874.35 L64.0042 880.366 Q64.0042 887.145 61.4897 889.724 Q58.9434 892.302 52.2594 892.302 L32.9077 892.302 L32.9077 896.599 L28.3562 896.599 L28.3562 892.302 L18.2347 892.302 L18.2347 886.413 Z\" fill=\"#000000\" fill-rule=\"evenodd\" fill-opacity=\"1\" /><path clip-path=\"url(#clip740)\" d=\"M28.3562 866.648 L28.3562 860.791 L64.0042 860.791 L64.0042 866.648 L28.3562 866.648 M14.479 866.648 L14.479 860.791 L21.895 860.791 L21.895 866.648 L14.479 866.648 Z\" fill=\"#000000\" fill-rule=\"evenodd\" fill-opacity=\"1\" /><path clip-path=\"url(#clip740)\" d=\"M32.4621 834.724 Q32.4621 839.435 36.1542 842.172 Q39.8145 844.909 46.212 844.909 Q52.6095 844.909 56.3017 842.204 Q59.9619 839.466 59.9619 834.724 Q59.9619 830.045 56.2698 827.308 Q52.5777 824.571 46.212 824.571 Q39.8781 824.571 36.186 827.308 Q32.4621 830.045 32.4621 834.724 M27.4968 834.724 Q27.4968 827.085 32.4621 822.725 Q37.4273 818.364 46.212 818.364 Q54.9649 818.364 59.9619 822.725 Q64.9272 827.085 64.9272 834.724 Q64.9272 842.395 59.9619 846.755 Q54.9649 851.084 46.212 851.084 Q37.4273 851.084 32.4621 846.755 Q27.4968 842.395 27.4968 834.724 Z\" fill=\"#000000\" fill-rule=\"evenodd\" fill-opacity=\"1\" /><path clip-path=\"url(#clip740)\" d=\"M42.4881 779.024 L64.0042 779.024 L64.0042 784.88 L42.679 784.88 Q37.6183 784.88 35.1038 786.854 Q32.5894 788.827 32.5894 792.774 Q32.5894 797.516 35.6131 800.254 Q38.6368 802.991 43.8567 802.991 L64.0042 802.991 L64.0042 808.879 L28.3562 808.879 L28.3562 802.991 L33.8944 802.991 Q30.6797 800.89 29.0883 798.057 Q27.4968 795.193 27.4968 791.469 Q27.4968 785.326 31.3163 782.175 Q35.1038 779.024 42.4881 779.024 Z\" fill=\"#000000\" fill-rule=\"evenodd\" fill-opacity=\"1\" /><path clip-path=\"url(#clip740)\" d=\"M32.4621 732.809 Q32.4621 737.52 36.1542 740.257 Q39.8145 742.994 46.212 742.994 Q52.6095 742.994 56.3017 740.289 Q59.9619 737.551 59.9619 732.809 Q59.9619 728.13 56.2698 725.393 Q52.5777 722.656 46.212 722.656 Q39.8781 722.656 36.186 725.393 Q32.4621 728.13 32.4621 732.809 M27.4968 732.809 Q27.4968 725.17 32.4621 720.81 Q37.4273 716.449 46.212 716.449 Q54.9649 716.449 59.9619 720.81 Q64.9272 725.17 64.9272 732.809 Q64.9272 740.48 59.9619 744.84 Q54.9649 749.169 46.212 749.169 Q37.4273 749.169 32.4621 744.84 Q27.4968 740.48 27.4968 732.809 Z\" fill=\"#000000\" fill-rule=\"evenodd\" fill-opacity=\"1\" /><path clip-path=\"url(#clip740)\" d=\"M14.479 688.695 L19.3487 688.695 L19.3487 694.296 Q19.3487 697.447 20.6219 698.689 Q21.895 699.898 25.2052 699.898 L28.3562 699.898 L28.3562 690.254 L32.9077 690.254 L32.9077 699.898 L64.0042 699.898 L64.0042 705.786 L32.9077 705.786 L32.9077 711.388 L28.3562 711.388 L28.3562 705.786 L25.8736 705.786 Q19.9216 705.786 17.2162 703.017 Q14.479 700.248 14.479 694.233 L14.479 688.695 Z\" fill=\"#000000\" fill-rule=\"evenodd\" fill-opacity=\"1\" /><path clip-path=\"url(#clip740)\" d=\"M18.0438 634.331 L24.314 634.331 Q22.5634 637.992 21.704 641.238 Q20.8447 644.485 20.8447 647.508 Q20.8447 652.76 22.8817 655.625 Q24.9187 658.457 28.6745 658.457 Q31.8255 658.457 33.4488 656.58 Q35.0402 654.67 36.0269 649.386 L36.8226 645.503 Q38.1912 638.31 41.6605 634.904 Q45.098 631.467 50.8908 631.467 Q57.7976 631.467 61.3624 636.114 Q64.9272 640.729 64.9272 649.673 Q64.9272 653.047 64.1633 656.866 Q63.3994 660.654 61.9035 664.728 L55.2831 664.728 Q57.4793 660.813 58.5933 657.057 Q59.7073 653.301 59.7073 649.673 Q59.7073 644.166 57.543 641.175 Q55.3786 638.183 51.3682 638.183 Q47.8671 638.183 45.8937 640.347 Q43.9204 642.48 42.9337 647.381 L42.1698 651.296 Q40.7375 658.489 37.682 661.704 Q34.6264 664.919 29.1837 664.919 Q22.8817 664.919 19.2532 660.494 Q15.6248 656.038 15.6248 648.241 Q15.6248 644.899 16.2295 641.429 Q16.8343 637.96 18.0438 634.331 Z\" fill=\"#000000\" fill-rule=\"evenodd\" fill-opacity=\"1\" /><path clip-path=\"url(#clip740)\" d=\"M49.9359 622.3 L28.3562 622.3 L28.3562 616.444 L49.7131 616.444 Q54.7739 616.444 57.3202 614.47 Q59.8346 612.497 59.8346 608.55 Q59.8346 603.808 56.8109 601.071 Q53.7872 598.302 48.5673 598.302 L28.3562 598.302 L28.3562 592.445 L64.0042 592.445 L64.0042 598.302 L58.5296 598.302 Q61.7762 600.434 63.3676 603.267 Q64.9272 606.068 64.9272 609.792 Q64.9272 615.935 61.1078 619.117 Q57.2883 622.3 49.9359 622.3 M27.4968 607.564 L27.4968 607.564 Z\" fill=\"#000000\" fill-rule=\"evenodd\" fill-opacity=\"1\" /><path clip-path=\"url(#clip740)\" d=\"M33.8307 559.725 Q33.2578 560.712 33.0032 561.89 Q32.7167 563.036 32.7167 564.436 Q32.7167 569.401 35.9632 572.075 Q39.1779 574.717 45.2253 574.717 L64.0042 574.717 L64.0042 580.605 L28.3562 580.605 L28.3562 574.717 L33.8944 574.717 Q30.6479 572.871 29.0883 569.91 Q27.4968 566.95 27.4968 562.717 Q27.4968 562.112 27.5923 561.38 Q27.656 560.648 27.8151 559.757 L33.8307 559.725 Z\" fill=\"#000000\" fill-rule=\"evenodd\" fill-opacity=\"1\" /><path clip-path=\"url(#clip740)\" d=\"M28.3562 557.784 L28.3562 551.577 L58.275 540.437 L28.3562 529.297 L28.3562 523.091 L64.0042 536.459 L64.0042 544.416 L28.3562 557.784 Z\" fill=\"#000000\" fill-rule=\"evenodd\" fill-opacity=\"1\" /><path clip-path=\"url(#clip740)\" d=\"M28.3562 515.006 L28.3562 509.15 L64.0042 509.15 L64.0042 515.006 L28.3562 515.006 M14.479 515.006 L14.479 509.15 L21.895 509.15 L21.895 515.006 L14.479 515.006 Z\" fill=\"#000000\" fill-rule=\"evenodd\" fill-opacity=\"1\" /><path clip-path=\"url(#clip740)\" d=\"M28.3562 501.097 L28.3562 494.891 L58.275 483.751 L28.3562 472.611 L28.3562 466.404 L64.0042 479.772 L64.0042 487.729 L28.3562 501.097 Z\" fill=\"#000000\" fill-rule=\"evenodd\" fill-opacity=\"1\" /><path clip-path=\"url(#clip740)\" d=\"M32.4621 444.506 Q32.4621 449.217 36.1542 451.954 Q39.8145 454.691 46.212 454.691 Q52.6095 454.691 56.3017 451.986 Q59.9619 449.249 59.9619 444.506 Q59.9619 439.827 56.2698 437.09 Q52.5777 434.353 46.212 434.353 Q39.8781 434.353 36.186 437.09 Q32.4621 439.827 32.4621 444.506 M27.4968 444.506 Q27.4968 436.867 32.4621 432.507 Q37.4273 428.146 46.212 428.146 Q54.9649 428.146 59.9619 432.507 Q64.9272 436.867 64.9272 444.506 Q64.9272 452.177 59.9619 456.537 Q54.9649 460.866 46.212 460.866 Q37.4273 460.866 32.4621 456.537 Q27.4968 452.177 27.4968 444.506 Z\" fill=\"#000000\" fill-rule=\"evenodd\" fill-opacity=\"1\" /><path clip-path=\"url(#clip740)\" d=\"M33.8307 397.782 Q33.2578 398.768 33.0032 399.946 Q32.7167 401.092 32.7167 402.492 Q32.7167 407.458 35.9632 410.131 Q39.1779 412.773 45.2253 412.773 L64.0042 412.773 L64.0042 418.661 L28.3562 418.661 L28.3562 412.773 L33.8944 412.773 Q30.6479 410.927 29.0883 407.967 Q27.4968 405.007 27.4968 400.774 Q27.4968 400.169 27.5923 399.437 Q27.656 398.705 27.8151 397.814 L33.8307 397.782 Z\" fill=\"#000000\" fill-rule=\"evenodd\" fill-opacity=\"1\" /><path clip-path=\"url(#clip740)\" d=\"M29.4065 368.913 L34.9447 368.913 Q33.6716 371.396 33.035 374.07 Q32.3984 376.743 32.3984 379.608 Q32.3984 383.968 33.7352 386.164 Q35.072 388.329 37.7456 388.329 Q39.7826 388.329 40.9603 386.769 Q42.1061 385.21 43.1565 380.499 L43.6021 378.494 Q44.9389 372.255 47.3897 369.645 Q49.8086 367.004 54.1691 367.004 Q59.1344 367.004 62.0308 370.95 Q64.9272 374.865 64.9272 381.74 Q64.9272 384.605 64.3543 387.724 Q63.8132 390.811 62.6992 394.249 L56.6518 394.249 Q58.3387 391.002 59.198 387.851 Q60.0256 384.7 60.0256 381.613 Q60.0256 377.475 58.6251 375.247 Q57.1929 373.019 54.6147 373.019 Q52.2276 373.019 50.9545 374.642 Q49.6813 376.234 48.5037 381.677 L48.0262 383.714 Q46.8804 389.156 44.5251 391.575 Q42.138 393.994 38.0002 393.994 Q32.9713 393.994 30.2341 390.429 Q27.4968 386.865 27.4968 380.308 Q27.4968 377.061 27.9743 374.197 Q28.4517 371.332 29.4065 368.913 Z\" fill=\"#000000\" fill-rule=\"evenodd\" fill-opacity=\"1\" /><path clip-path=\"url(#clip742)\" d=\"M337.179 86.1857 L337.179 1384.24 L879.54 1384.24 L879.54 86.1857 L337.179 86.1857 L337.179 86.1857  Z\" fill=\"#009af9\" fill-rule=\"evenodd\" fill-opacity=\"1\"/>\n<polyline clip-path=\"url(#clip742)\" style=\"stroke:#000000; stroke-linecap:round; stroke-linejoin:round; stroke-width:4; stroke-opacity:1; fill:none\" points=\"337.179,86.1857 337.179,1384.24 879.54,1384.24 879.54,86.1857 337.179,86.1857 \"/>\n<path clip-path=\"url(#clip742)\" d=\"M1015.13 409.454 L1015.13 1384.24 L1557.49 1384.24 L1557.49 409.454 L1015.13 409.454 L1015.13 409.454  Z\" fill=\"#009af9\" fill-rule=\"evenodd\" fill-opacity=\"1\"/>\n<polyline clip-path=\"url(#clip742)\" style=\"stroke:#000000; stroke-linecap:round; stroke-linejoin:round; stroke-width:4; stroke-opacity:1; fill:none\" points=\"1015.13,409.454 1015.13,1384.24 1557.49,1384.24 1557.49,409.454 1015.13,409.454 \"/>\n<path clip-path=\"url(#clip742)\" d=\"M1693.08 884.581 L1693.08 1384.24 L2235.44 1384.24 L2235.44 884.581 L1693.08 884.581 L1693.08 884.581  Z\" fill=\"#009af9\" fill-rule=\"evenodd\" fill-opacity=\"1\"/>\n<polyline clip-path=\"url(#clip742)\" style=\"stroke:#000000; stroke-linecap:round; stroke-linejoin:round; stroke-width:4; stroke-opacity:1; fill:none\" points=\"1693.08,884.581 1693.08,1384.24 2235.44,1384.24 2235.44,884.581 1693.08,884.581 \"/>\n<circle clip-path=\"url(#clip742)\" style=\"fill:#009af9; stroke:none; fill-opacity:0\" cx=\"608.36\" cy=\"86.1857\" r=\"2\"/>\n<circle clip-path=\"url(#clip742)\" style=\"fill:#009af9; stroke:none; fill-opacity:0\" cx=\"1286.31\" cy=\"409.454\" r=\"2\"/>\n<circle clip-path=\"url(#clip742)\" style=\"fill:#009af9; stroke:none; fill-opacity:0\" cx=\"1964.26\" cy=\"884.581\" r=\"2\"/>\n<path clip-path=\"url(#clip740)\" d=\"M2015.94 196.789 L2281.66 196.789 L2281.66 93.1086 L2015.94 93.1086  Z\" fill=\"#ffffff\" fill-rule=\"evenodd\" fill-opacity=\"1\"/>\n<polyline clip-path=\"url(#clip740)\" style=\"stroke:#000000; stroke-linecap:round; stroke-linejoin:round; stroke-width:4; stroke-opacity:1; fill:none\" points=\"2015.94,196.789 2281.66,196.789 2281.66,93.1086 2015.94,93.1086 2015.94,196.789 \"/>\n<path clip-path=\"url(#clip740)\" d=\"M2039.64 165.685 L2181.83 165.685 L2181.83 124.213 L2039.64 124.213 L2039.64 165.685  Z\" fill=\"#009af9\" fill-rule=\"evenodd\" fill-opacity=\"1\"/>\n<polyline clip-path=\"url(#clip740)\" style=\"stroke:#000000; stroke-linecap:round; stroke-linejoin:round; stroke-width:4; stroke-opacity:1; fill:none\" points=\"2039.64,165.685 2181.83,165.685 2181.83,124.213 2039.64,124.213 2039.64,165.685 \"/>\n<path clip-path=\"url(#clip740)\" d=\"M2219.37 164.636 Q2217.57 169.266 2215.85 170.678 Q2214.14 172.09 2211.27 172.09 L2207.87 172.09 L2207.87 168.525 L2210.37 168.525 Q2212.13 168.525 2213.1 167.692 Q2214.07 166.858 2215.25 163.756 L2216.02 161.812 L2205.53 136.303 L2210.04 136.303 L2218.15 156.581 L2226.25 136.303 L2230.76 136.303 L2219.37 164.636 Z\" fill=\"#000000\" fill-rule=\"evenodd\" fill-opacity=\"1\" /><path clip-path=\"url(#clip740)\" d=\"M2238.05 158.293 L2245.69 158.293 L2245.69 131.928 L2237.38 133.595 L2237.38 129.335 L2245.65 127.669 L2250.32 127.669 L2250.32 158.293 L2257.96 158.293 L2257.96 162.229 L2238.05 162.229 L2238.05 158.293 Z\" fill=\"#000000\" fill-rule=\"evenodd\" fill-opacity=\"1\" /></svg>\n"
     },
     "execution_count": 75,
     "metadata": {},
     "output_type": "execute_result"
    }
   ],
   "source": [
    "# Plot the proportion of survivors by age category using the Plots package\n",
    "using Plots\n",
    "gr()\n",
    "bar(class_cat_prop_survivors.Pclass, class_cat_prop_survivors.PropSurvivors,\n",
    "    xlabel=\"Class\", ylabel=\"Proportion of Survivors\", legend=true,\n",
    "    xticks=(1:3, [\"1st\", \"2nd\", \"3rd\"]))"
   ]
  }
 ],
 "metadata": {
  "kernelspec": {
   "display_name": "Julia 1.8.3",
   "language": "julia",
   "name": "julia-1.8"
  },
  "language_info": {
   "file_extension": ".jl",
   "mimetype": "application/julia",
   "name": "julia",
   "version": "1.8.3"
  }
 },
 "nbformat": 4,
 "nbformat_minor": 5
}
