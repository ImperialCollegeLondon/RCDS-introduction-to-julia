{
 "cells": [
  {
   "cell_type": "markdown",
   "id": "lasto200",
   "metadata": {},
   "source": [
    "# Introduction to Julia DataFrames\n",
    "\n",
    "In this notebook, we will provide an introduction to Julia DataFrames using the titanic dataset. We will cover the following topics:\n",
    "\n",
    "* Loading data into a DataFrame\n",
    "* Basic data manipulation and analysis using DataFrames\n",
    "* Exercises for practicing data manipulation and analysis using the titanic dataset in a DataFrame\n",
    "\n",
    "We assume that you have a basic understanding of Julia programming. If you are new to Julia, we recommend that you complete the [official Julia documentation](https://docs.julialang.org/en/v1/) and/or a Julia tutorial or course before proceeding with this notebook.\n",
    "\n",
    "To get started, let's load the necessary packages:\n"
   ]
  },
  {
   "cell_type": "code",
   "execution_count": 76,
   "id": "fdd2a8ab",
   "metadata": {
    "collapsed": false
   },
   "outputs": [],
   "source": [
    "# Load necessary packages\n",
    "using DataFrames\n",
    "using CSV\n",
    "using Statistics"
   ]
  },
  {
   "cell_type": "markdown",
   "id": "9e97cc1d",
   "metadata": {},
   "source": [
    "## Loading the titanic dataset\n",
    "\n",
    "The titanic dataset contains information about the passengers on the Titanic, including their age, sex, passenger class, and survival status. We will load this dataset into a DataFrame using the `CSV.jl` package.\n",
    "\n",
    "To load the titanic dataset, we first need to download the `titanic.csv` file. You can download the file from the [Kaggle website](https://www.kaggle.com/c/titanic/data) and save it in the same directory as this notebook. Once you have downloaded the file, you can use the following code to load it into a DataFrame:"
   ]
  },
  {
   "cell_type": "code",
   "execution_count": 77,
   "id": "1c9e32fd",
   "metadata": {},
   "outputs": [],
   "source": [
    "# Load the titanic dataset into a DataFrame using CSV.jl\n",
    "titanic = DataFrame(CSV.File(\"titanic.csv\"))\n",
    "first(titanic, 5)"
   ]
  },
  {
   "attachments": {},
   "cell_type": "markdown",
   "id": "3fcbc94e",
   "metadata": {},
   "source": [
    "## Basic data manipulation and analysis using DataFrames\n",
    "\n",
    "Now that we have loaded the titanic dataset into a DataFrame, we can start exploring and analyzing the data. We will use basic DataFrame functions such as `head`, `describe`, and `groupby` to do so.\n",
    "\n",
    "Let's start by determining the number of rows and columns in the titanic DataFrame:"
   ]
  },
  {
   "cell_type": "code",
   "execution_count": null,
   "id": "cc3f3aab",
   "metadata": {
    "collapsed": false
   },
   "outputs": [],
   "source": [
    "# Determine the number of rows and columns in the titanic DataFrame\n",
    "nrows, ncols = size(titanic)\n",
    "println(\"Number of rows: \", nrows)\n",
    "println(\"Number of columns: \", ncols)"
   ]
  },
  {
   "cell_type": "markdown",
   "id": "a2fc0725",
   "metadata": {},
   "source": [
    "Next, let's print a summary of the titanic DataFrame using the `describe` function:"
   ]
  },
  {
   "cell_type": "code",
   "execution_count": null,
   "id": "547b5cf4",
   "metadata": {},
   "outputs": [],
   "source": [
    "# Print a summary of the titanic DataFrame using the describe function\n",
    "describe(titanic)"
   ]
  },
  {
   "cell_type": "markdown",
   "id": "27b7e64e",
   "metadata": {},
   "source": [
    "Now let's filter the titanic DataFrame to include only survivors and print the first 5 rows:"
   ]
  },
  {
   "cell_type": "code",
   "execution_count": null,
   "id": "ffdc5057",
   "metadata": {},
   "outputs": [],
   "source": [
    "# Filter the titanic DataFrame to include only survivors and print the first 5 rows\n",
    "survivors = filter(row -> row.Survived == 1, titanic)\n",
    "first(survivors, 5)"
   ]
  },
  {
   "cell_type": "markdown",
   "id": "60dcc913",
   "metadata": {},
   "source": [
    "We can also calculate the percentage of survivors in the titanic DataFrame:"
   ]
  },
  {
   "cell_type": "code",
   "execution_count": null,
   "id": "1520a1df",
   "metadata": {},
   "outputs": [],
   "source": [
    "# Calculate the percentage of survivors in the titanic DataFrame\n",
    "prop_survivors = mean(titanic.Survived)\n",
    "println(\"Proportion of survivors: \", prop_survivors)"
   ]
  },
  {
   "cell_type": "markdown",
   "id": "a90sif0j",
   "metadata": {},
   "source": [
    "We can group the titanic DataFrame by passenger class and calculate the average age in each class:"
   ]
  },
  {
   "cell_type": "code",
   "execution_count": null,
   "id": "qowo22i1",
   "metadata": {},
   "outputs": [],
   "source": [
    "# Group the titanic DataFrame by passenger class and calculate the average age in each class, ignoring missing values\n",
    "class_ages = combine(groupby(titanic, :Pclass), :Age => (x -> mean(skipmissing(x))) => :AvgAge)"
   ]
  },
  {
   "cell_type": "markdown",
   "id": "129lldo2",
   "metadata": {},
   "source": [
    "Let's add a new column to the titanic DataFrame that indicates whether a passenger is a child or an adult, based on their age:"
   ]
  },
  {
   "cell_type": "code",
   "execution_count": null,
   "id": "ok28jjdu",
   "metadata": {},
   "outputs": [],
   "source": [
    "is_child(age) = ismissing(age) ? missing : age < 18\n",
    "titanic[!, :Child] = is_child.(titanic.Age)\n",
    "first(titanic, 5)"
   ]
  },
  {
   "cell_type": "markdown",
   "id": "mcnu2288",
   "metadata": {},
   "source": [
    "We can also group the titanic DataFrame by age category and calculate the proportion of survivors in each category:"
   ]
  },
  {
   "cell_type": "code",
   "execution_count": null,
   "id": "plok2033",
   "metadata": {},
   "outputs": [],
   "source": [
    "# Group the titanic DataFrame by age category and calculate the proportion of survivors in each category\n",
    "age_cat_prop_survivors = combine(groupby(titanic, :Child), \n",
    "    :Survived => mean => :PropSurvivors)"
   ]
  },
  {
   "cell_type": "code",
   "execution_count": null,
   "id": "53f9e53d",
   "metadata": {},
   "outputs": [],
   "source": [
    "# Group by passenger class and calculate proportion of survivors in each group\n",
    "class_cat_prop_survivors = combine(groupby(titanic, :Pclass), :Survived => mean => :PropSurvivors)"
   ]
  },
  {
   "cell_type": "markdown",
   "id": "vmos9388",
   "metadata": {},
   "source": [
    "Finally, let's plot the proportion of survivors by age category using the `Plots` package:"
   ]
  },
  {
   "cell_type": "code",
   "execution_count": null,
   "id": "asdkoo0j",
   "metadata": {},
   "outputs": [],
   "source": [
    "# Plot the proportion of survivors by age category using the Plots package\n",
    "using Plots\n",
    "gr()\n",
    "bar(class_cat_prop_survivors.Pclass, class_cat_prop_survivors.PropSurvivors,\n",
    "    xlabel=\"Class\", ylabel=\"Proportion of Survivors\", legend=true,\n",
    "    xticks=(1:3, [\"1st\", \"2nd\", \"3rd\"]))"
   ]
  }
 ],
 "metadata": {
  "kernelspec": {
   "display_name": "Julia 1.8.3",
   "language": "julia",
   "name": "julia-1.8"
  },
  "language_info": {
   "file_extension": ".jl",
   "mimetype": "application/julia",
   "name": "julia",
   "version": "1.8.3"
  }
 },
 "nbformat": 4,
 "nbformat_minor": 5
}
