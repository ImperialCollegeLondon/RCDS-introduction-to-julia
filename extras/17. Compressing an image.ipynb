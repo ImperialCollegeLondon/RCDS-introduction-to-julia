{
 "cells": [
  {
   "cell_type": "code",
   "execution_count": 4,
   "metadata": {},
   "outputs": [],
   "source": [
    "# Helpful packages for working with images and factorizations\n",
    "#using Pkg; Pkg.add(\"Images\")\n",
    "using Images, LinearAlgebra"
   ]
  },
  {
   "cell_type": "markdown",
   "metadata": {},
   "source": [
    "### Using a SVD to compress an image\n",
    "\n",
    "In this exercise, we'll use a singular value decomposition (SVD) to compress an image -- so that we can store an image without keeping around \"unnecessary\" information.\n",
    "\n",
    "To start, let's define a singular value decomposition. In a SVD, we take a matrix $A$ and factorize it so that\n",
    "\n",
    "$$A = USV^T$$\n",
    "\n",
    "where matrices $U$ and $V$ are unitary and hold our singular vectors. Matrix $S$ is diagonal and stores our singular values in decreasing order from top/left to bottom/right.\n",
    "\n",
    "In Julia, our images are stored as arrays, so we can think of `shield` as a matrix"
   ]
  },
  {
   "cell_type": "code",
   "execution_count": 1,
   "metadata": {},
   "outputs": [
    {
     "ename": "UndefVarError",
     "evalue": "UndefVarError: `load` not defined in `Main`\nSuggestion: check for spelling errors or missing imports.",
     "output_type": "error",
     "traceback": [
      "UndefVarError: `load` not defined in `Main`\n",
      "Suggestion: check for spelling errors or missing imports.\n",
      "\n",
      "Stacktrace:\n",
      " [1] top-level scope\n",
      "   @ /workspaces/RCDS-introduction-to-julia/extras/jl_notebook_cell_df34fa98e69747e1a8f8a730347b8e2f_W2sdnNjb2RlLXJlbW90ZQ==.jl:1"
     ]
    }
   ],
   "source": [
    "shield = load(\"../img/Shield_of_Imperial_College_London.png\")"
   ]
  },
  {
   "cell_type": "code",
   "execution_count": 6,
   "metadata": {},
   "outputs": [],
   "source": [
    "size(shield)"
   ]
  },
  {
   "cell_type": "code",
   "execution_count": 7,
   "metadata": {},
   "outputs": [],
   "source": [
    "shield[100,50] # Each element in the array is a color"
   ]
  },
  {
   "cell_type": "markdown",
   "metadata": {},
   "source": [
    "That means we can take the SVD of this image. So, we can store this picture of a shield as sets of singular vectors and singular values.\n",
    "\n",
    "**The reason this is important** is that we'll find that we do **not** need to keep track of *all* the singular vectors and *all* the singular values to store an image that still looks like a shield! This means we can choose to keep only the important information, throw away the rest, and thereby \"compress\" the image.\n",
    "\n",
    "Working with grayscale images is a bit easier, so let's work with the gray version of this shield."
   ]
  },
  {
   "cell_type": "code",
   "execution_count": 8,
   "metadata": {},
   "outputs": [],
   "source": [
    "gshield = Gray.(shield)"
   ]
  },
  {
   "cell_type": "markdown",
   "metadata": {},
   "source": [
    "Note that `gshield` is a (400,400) matrix that stores a pixel -- information about the color -- at each entry."
   ]
  },
  {
   "cell_type": "code",
   "execution_count": 9,
   "metadata": {},
   "outputs": [],
   "source": [
    "size(gshield)"
   ]
  },
  {
   "cell_type": "markdown",
   "metadata": {},
   "source": [
    "If we take the `channelview` of `gshield`, we'll see the numbers that describe the color at each point in the array:"
   ]
  },
  {
   "cell_type": "code",
   "execution_count": 10,
   "metadata": {},
   "outputs": [],
   "source": [
    "channelview(gshield)"
   ]
  },
  {
   "cell_type": "markdown",
   "metadata": {},
   "source": [
    "Note that you can call `Gray` on the `channelview` of an image to display the image!"
   ]
  },
  {
   "cell_type": "code",
   "execution_count": 11,
   "metadata": {},
   "outputs": [],
   "source": [
    "Gray.(channelview(gshield))"
   ]
  },
  {
   "cell_type": "markdown",
   "metadata": {},
   "source": [
    "**So how can we use a SVD to determine what information in an image is really important?**\n",
    "\n",
    "The singular values tell us!\n",
    "\n",
    "If we have matrices $U$, $S$, and $V$ from our image, we can rebuild that image with the matrix product $USV^T$. \n",
    "\n",
    "Taking this matrix product is the same as adding together the outer products of each corresponding pair of vectors from $U$ and $V$, scaled by a singular value ($\\sigma$) from $S$. In other words, for a (400 x 400) pixel image,\n",
    "\n",
    "$$A_{image} = USV^T = \\sum_{i = 1}^{400} \\sigma_i \\mathbf{u_i}\\mathbf{v_i'} $$\n",
    "\n",
    "Every outer product $u_i * v_i'$ creates a (400 x 400) matrix. Here we're summing together one hundred (400 x 400) matrices in order to create the original matrix $A_{image}$. The matrices at the beginning of the series -- those that are scaled by **large** singular values -- will be **much** more important in recreating the original matrix $A_{image}$.\n",
    "\n",
    "This means we can approximate $A_{image}$ as\n",
    "\n",
    "$$A_{image} \\approx \\sum_{i = 1}^{n} \\sigma_i \\mathbf{u_i}\\mathbf{v_i'}$$\n",
    "\n",
    "where $n < 400$.\n",
    "\n",
    "For example, if we rebuild our image of a shield using only 100 (instead of all 400) singular values, we get\n",
    "\n",
    "<img src=\"readme-images/shield_4.png\" alt=\"Drawing\" style=\"width: 400px;\"/>\n",
    "\n",
    "Using 50 and then 25 singular values, we get\n",
    "\n",
    "<img src=\"readme-images/shield_8.png\" alt=\"Drawing\" style=\"width: 400px;\"/>\n",
    "<img src=\"readme-images/shield_16.png\" alt=\"Drawing\" style=\"width: 400px;\"/>\n",
    "\n",
    "#### Exercise\n",
    "\n",
    "Write a function called `compress_image`. Its input arguments should be an image and the factor by which you want to compress the image. A compressed grayscale image should display when `compress_image` is called.\n",
    "\n",
    "For example,\n",
    "\n",
    "```julia\n",
    "compress_image(\"readme-images/Shield_of_Imperial_College_London.png\", 11)\n",
    "```\n",
    "\n",
    "will return a compressed image of a grayscale shield built using 36 singular values. (This image has 400 singular values, so use `fld(400, 11)` to determine how many singular values to keep. `fld` performs \"floor\" division.)\n",
    "\n",
    "*Hints*: \n",
    "\n",
    "* Perform the SVD on the `channelview` of a grayscale image.\n",
    "* In an empty input cell, execute `?svd` to find a function that wil perform an SVD for you."
   ]
  },
  {
   "cell_type": "code",
   "execution_count": null,
   "metadata": {},
   "outputs": [],
   "source": [
    "?svd"
   ]
  },
  {
   "cell_type": "code",
   "execution_count": 13,
   "metadata": {},
   "outputs": [],
   "source": [
    "## YOUR CODE GOES HERE"
   ]
  },
  {
   "cell_type": "code",
   "execution_count": 15,
   "metadata": {},
   "outputs": [],
   "source": [
    "compress_image(gshield, 10)"
   ]
  },
  {
   "cell_type": "code",
   "execution_count": 16,
   "metadata": {},
   "outputs": [],
   "source": []
  },
  {
   "cell_type": "code",
   "execution_count": 17,
   "metadata": {},
   "outputs": [],
   "source": []
  }
 ],
 "metadata": {
  "kernelspec": {
   "display_name": "Julia 1.8.3",
   "language": "julia",
   "name": "julia-1.8"
  },
  "language_info": {
   "file_extension": ".jl",
   "mimetype": "application/julia",
   "name": "julia",
   "version": "1.8.3"
  }
 },
 "nbformat": 4,
 "nbformat_minor": 2
}
