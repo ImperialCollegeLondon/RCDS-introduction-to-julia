{
 "cells": [
  {
   "attachments": {},
   "cell_type": "markdown",
   "id": "28d6fd2e",
   "metadata": {},
   "source": [
    "# Errors and Exceptions\n",
    "\n",
    "https://docs.julialang.org/en/v1/manual/control-flow/#Built-in-Exceptions"
   ]
  },
  {
   "attachments": {},
   "cell_type": "markdown",
   "id": "fe603ca6",
   "metadata": {},
   "source": [
    "Many different types of exceptions exist! You might have already come across some during the previous notebooks."
   ]
  },
  {
   "cell_type": "code",
   "execution_count": 1,
   "id": "2701c303",
   "metadata": {},
   "outputs": [
    {
     "name": "stdout",
     "output_type": "stream",
     "text": [
      "search: \u001b[0m\u001b[1mE\u001b[22m\u001b[0m\u001b[1mx\u001b[22m\u001b[0m\u001b[1mc\u001b[22m\u001b[0m\u001b[1me\u001b[22m\u001b[0m\u001b[1mp\u001b[22m\u001b[0m\u001b[1mt\u001b[22m\u001b[0m\u001b[1mi\u001b[22m\u001b[0m\u001b[1mo\u001b[22m\u001b[0m\u001b[1mn\u001b[22m Missing\u001b[0m\u001b[1mE\u001b[22m\u001b[0m\u001b[1mx\u001b[22m\u001b[0m\u001b[1mc\u001b[22m\u001b[0m\u001b[1me\u001b[22m\u001b[0m\u001b[1mp\u001b[22m\u001b[0m\u001b[1mt\u001b[22m\u001b[0m\u001b[1mi\u001b[22m\u001b[0m\u001b[1mo\u001b[22m\u001b[0m\u001b[1mn\u001b[22m \u001b[0m\u001b[1mE\u001b[22mrrorE\u001b[0m\u001b[1mx\u001b[22m\u001b[0m\u001b[1mc\u001b[22m\u001b[0m\u001b[1me\u001b[22m\u001b[0m\u001b[1mp\u001b[22m\u001b[0m\u001b[1mt\u001b[22m\u001b[0m\u001b[1mi\u001b[22m\u001b[0m\u001b[1mo\u001b[22m\u001b[0m\u001b[1mn\u001b[22m Captur\u001b[0m\u001b[1me\u001b[22mdE\u001b[0m\u001b[1mx\u001b[22m\u001b[0m\u001b[1mc\u001b[22m\u001b[0m\u001b[1me\u001b[22m\u001b[0m\u001b[1mp\u001b[22m\u001b[0m\u001b[1mt\u001b[22m\u001b[0m\u001b[1mi\u001b[22m\u001b[0m\u001b[1mo\u001b[22m\u001b[0m\u001b[1mn\u001b[22m\n",
      "\n"
     ]
    },
    {
     "data": {
      "text/latex": [
       "No documentation found.\n",
       "\n",
       "\\section{Summary}\n",
       "\\begin{verbatim}\n",
       "abstract type Exception\n",
       "\\end{verbatim}\n",
       "\\section{Subtypes}\n",
       "\\begin{verbatim}\n",
       "ArgumentError\n",
       "AssertionError\n",
       "Base.CodePointError{T<:Integer}\n",
       "Base.IOError\n",
       "Base.InvalidCharError{T<:AbstractChar}\n",
       "Base.Meta.ParseError\n",
       "Base.PrecompilableError\n",
       "Base.ScheduledAfterSyncException\n",
       "Base.SimdLoop.SimdError\n",
       "Base.TOML.ParserError\n",
       "BoundsError\n",
       "CanonicalIndexError\n",
       "CapturedException\n",
       "CompositeException\n",
       "ConcurrencyViolationError\n",
       "Core.Compiler.CanonicalIndexError\n",
       "Core.Compiler.DimensionMismatch\n",
       "Core.Compiler.InvalidCodeError\n",
       "Core.Compiler.KeyError\n",
       "Core.WrappedException\n",
       "DimensionMismatch\n",
       "Distributed.BatchProcessingError\n",
       "Distributed.LaunchWorkerError\n",
       "Distributed.ProcessExitedException\n",
       "Distributed.RemoteException\n",
       "DivideError\n",
       "DomainError\n",
       "Downloads.RequestError\n",
       "EOFError\n",
       "ErrorException\n",
       "InexactError\n",
       "InterruptException\n",
       "InvalidStateException\n",
       "KeyError\n",
       "LibGit2.Error.GitError\n",
       "LinearAlgebra.LAPACKException\n",
       "LinearAlgebra.PosDefException\n",
       "LinearAlgebra.RankDeficientException\n",
       "LinearAlgebra.SingularException\n",
       "LinearAlgebra.ZeroPivotException\n",
       "MbedTLS.MbedException\n",
       "MethodError\n",
       "MissingException\n",
       "OutOfMemoryError\n",
       "OverflowError\n",
       "Parsers.Error\n",
       "Pkg.LazilyInitializedFields.AlreadyInitializedException\n",
       "Pkg.LazilyInitializedFields.NonLazyFieldException\n",
       "Pkg.LazilyInitializedFields.UninitializedFieldException\n",
       "Pkg.Resolve.ResolverError\n",
       "Pkg.Resolve.UnsatError\n",
       "Pkg.Types.PkgError\n",
       "ProcessFailedException\n",
       "ReadOnlyMemoryError\n",
       "SegmentationFault\n",
       "Sockets.DNSError\n",
       "StackOverflowError\n",
       "StringIndexError\n",
       "SuiteSparse.CHOLMOD.CHOLMODException\n",
       "SuiteSparse.UMFPACK.MatrixIllConditionedException\n",
       "SystemError\n",
       "TaskFailedException\n",
       "Test.FallbackTestSetException\n",
       "Test.TestSetException\n",
       "TypeError\n",
       "UndefKeywordError\n",
       "UndefRefError\n",
       "UndefVarError\n",
       "ZMQ.StateError\n",
       "\\end{verbatim}\n"
      ],
      "text/markdown": [
       "No documentation found.\n",
       "\n",
       "# Summary\n",
       "\n",
       "```\n",
       "abstract type Exception\n",
       "```\n",
       "\n",
       "# Subtypes\n",
       "\n",
       "```\n",
       "ArgumentError\n",
       "AssertionError\n",
       "Base.CodePointError{T<:Integer}\n",
       "Base.IOError\n",
       "Base.InvalidCharError{T<:AbstractChar}\n",
       "Base.Meta.ParseError\n",
       "Base.PrecompilableError\n",
       "Base.ScheduledAfterSyncException\n",
       "Base.SimdLoop.SimdError\n",
       "Base.TOML.ParserError\n",
       "BoundsError\n",
       "CanonicalIndexError\n",
       "CapturedException\n",
       "CompositeException\n",
       "ConcurrencyViolationError\n",
       "Core.Compiler.CanonicalIndexError\n",
       "Core.Compiler.DimensionMismatch\n",
       "Core.Compiler.InvalidCodeError\n",
       "Core.Compiler.KeyError\n",
       "Core.WrappedException\n",
       "DimensionMismatch\n",
       "Distributed.BatchProcessingError\n",
       "Distributed.LaunchWorkerError\n",
       "Distributed.ProcessExitedException\n",
       "Distributed.RemoteException\n",
       "DivideError\n",
       "DomainError\n",
       "Downloads.RequestError\n",
       "EOFError\n",
       "ErrorException\n",
       "InexactError\n",
       "InterruptException\n",
       "InvalidStateException\n",
       "KeyError\n",
       "LibGit2.Error.GitError\n",
       "LinearAlgebra.LAPACKException\n",
       "LinearAlgebra.PosDefException\n",
       "LinearAlgebra.RankDeficientException\n",
       "LinearAlgebra.SingularException\n",
       "LinearAlgebra.ZeroPivotException\n",
       "MbedTLS.MbedException\n",
       "MethodError\n",
       "MissingException\n",
       "OutOfMemoryError\n",
       "OverflowError\n",
       "Parsers.Error\n",
       "Pkg.LazilyInitializedFields.AlreadyInitializedException\n",
       "Pkg.LazilyInitializedFields.NonLazyFieldException\n",
       "Pkg.LazilyInitializedFields.UninitializedFieldException\n",
       "Pkg.Resolve.ResolverError\n",
       "Pkg.Resolve.UnsatError\n",
       "Pkg.Types.PkgError\n",
       "ProcessFailedException\n",
       "ReadOnlyMemoryError\n",
       "SegmentationFault\n",
       "Sockets.DNSError\n",
       "StackOverflowError\n",
       "StringIndexError\n",
       "SuiteSparse.CHOLMOD.CHOLMODException\n",
       "SuiteSparse.UMFPACK.MatrixIllConditionedException\n",
       "SystemError\n",
       "TaskFailedException\n",
       "Test.FallbackTestSetException\n",
       "Test.TestSetException\n",
       "TypeError\n",
       "UndefKeywordError\n",
       "UndefRefError\n",
       "UndefVarError\n",
       "ZMQ.StateError\n",
       "```\n"
      ],
      "text/plain": [
       "  No documentation found.\n",
       "\n",
       "\u001b[1m  Summary\u001b[22m\n",
       "\u001b[1m  ≡≡≡≡≡≡≡≡≡\u001b[22m\n",
       "\n",
       "\u001b[36m  abstract type Exception\u001b[39m\n",
       "\n",
       "\u001b[1m  Subtypes\u001b[22m\n",
       "\u001b[1m  ≡≡≡≡≡≡≡≡≡≡\u001b[22m\n",
       "\n",
       "\u001b[36m  ArgumentError\u001b[39m\n",
       "\u001b[36m  AssertionError\u001b[39m\n",
       "\u001b[36m  Base.CodePointError{T<:Integer}\u001b[39m\n",
       "\u001b[36m  Base.IOError\u001b[39m\n",
       "\u001b[36m  Base.InvalidCharError{T<:AbstractChar}\u001b[39m\n",
       "\u001b[36m  Base.Meta.ParseError\u001b[39m\n",
       "\u001b[36m  Base.PrecompilableError\u001b[39m\n",
       "\u001b[36m  Base.ScheduledAfterSyncException\u001b[39m\n",
       "\u001b[36m  Base.SimdLoop.SimdError\u001b[39m\n",
       "\u001b[36m  Base.TOML.ParserError\u001b[39m\n",
       "\u001b[36m  BoundsError\u001b[39m\n",
       "\u001b[36m  CanonicalIndexError\u001b[39m\n",
       "\u001b[36m  CapturedException\u001b[39m\n",
       "\u001b[36m  CompositeException\u001b[39m\n",
       "\u001b[36m  ConcurrencyViolationError\u001b[39m\n",
       "\u001b[36m  Core.Compiler.CanonicalIndexError\u001b[39m\n",
       "\u001b[36m  Core.Compiler.DimensionMismatch\u001b[39m\n",
       "\u001b[36m  Core.Compiler.InvalidCodeError\u001b[39m\n",
       "\u001b[36m  Core.Compiler.KeyError\u001b[39m\n",
       "\u001b[36m  Core.WrappedException\u001b[39m\n",
       "\u001b[36m  DimensionMismatch\u001b[39m\n",
       "\u001b[36m  Distributed.BatchProcessingError\u001b[39m\n",
       "\u001b[36m  Distributed.LaunchWorkerError\u001b[39m\n",
       "\u001b[36m  Distributed.ProcessExitedException\u001b[39m\n",
       "\u001b[36m  Distributed.RemoteException\u001b[39m\n",
       "\u001b[36m  DivideError\u001b[39m\n",
       "\u001b[36m  DomainError\u001b[39m\n",
       "\u001b[36m  Downloads.RequestError\u001b[39m\n",
       "\u001b[36m  EOFError\u001b[39m\n",
       "\u001b[36m  ErrorException\u001b[39m\n",
       "\u001b[36m  InexactError\u001b[39m\n",
       "\u001b[36m  InterruptException\u001b[39m\n",
       "\u001b[36m  InvalidStateException\u001b[39m\n",
       "\u001b[36m  KeyError\u001b[39m\n",
       "\u001b[36m  LibGit2.Error.GitError\u001b[39m\n",
       "\u001b[36m  LinearAlgebra.LAPACKException\u001b[39m\n",
       "\u001b[36m  LinearAlgebra.PosDefException\u001b[39m\n",
       "\u001b[36m  LinearAlgebra.RankDeficientException\u001b[39m\n",
       "\u001b[36m  LinearAlgebra.SingularException\u001b[39m\n",
       "\u001b[36m  LinearAlgebra.ZeroPivotException\u001b[39m\n",
       "\u001b[36m  MbedTLS.MbedException\u001b[39m\n",
       "\u001b[36m  MethodError\u001b[39m\n",
       "\u001b[36m  MissingException\u001b[39m\n",
       "\u001b[36m  OutOfMemoryError\u001b[39m\n",
       "\u001b[36m  OverflowError\u001b[39m\n",
       "\u001b[36m  Parsers.Error\u001b[39m\n",
       "\u001b[36m  Pkg.LazilyInitializedFields.AlreadyInitializedException\u001b[39m\n",
       "\u001b[36m  Pkg.LazilyInitializedFields.NonLazyFieldException\u001b[39m\n",
       "\u001b[36m  Pkg.LazilyInitializedFields.UninitializedFieldException\u001b[39m\n",
       "\u001b[36m  Pkg.Resolve.ResolverError\u001b[39m\n",
       "\u001b[36m  Pkg.Resolve.UnsatError\u001b[39m\n",
       "\u001b[36m  Pkg.Types.PkgError\u001b[39m\n",
       "\u001b[36m  ProcessFailedException\u001b[39m\n",
       "\u001b[36m  ReadOnlyMemoryError\u001b[39m\n",
       "\u001b[36m  SegmentationFault\u001b[39m\n",
       "\u001b[36m  Sockets.DNSError\u001b[39m\n",
       "\u001b[36m  StackOverflowError\u001b[39m\n",
       "\u001b[36m  StringIndexError\u001b[39m\n",
       "\u001b[36m  SuiteSparse.CHOLMOD.CHOLMODException\u001b[39m\n",
       "\u001b[36m  SuiteSparse.UMFPACK.MatrixIllConditionedException\u001b[39m\n",
       "\u001b[36m  SystemError\u001b[39m\n",
       "\u001b[36m  TaskFailedException\u001b[39m\n",
       "\u001b[36m  Test.FallbackTestSetException\u001b[39m\n",
       "\u001b[36m  Test.TestSetException\u001b[39m\n",
       "\u001b[36m  TypeError\u001b[39m\n",
       "\u001b[36m  UndefKeywordError\u001b[39m\n",
       "\u001b[36m  UndefRefError\u001b[39m\n",
       "\u001b[36m  UndefVarError\u001b[39m\n",
       "\u001b[36m  ZMQ.StateError\u001b[39m"
      ]
     },
     "execution_count": 1,
     "metadata": {},
     "output_type": "execute_result"
    }
   ],
   "source": [
    "?Exception"
   ]
  },
  {
   "cell_type": "markdown",
   "id": "007baaaf",
   "metadata": {},
   "source": [
    "We can also define our own exceptions"
   ]
  },
  {
   "cell_type": "code",
   "execution_count": 2,
   "id": "d923d004",
   "metadata": {
    "tags": [
     "hide"
    ]
   },
   "outputs": [],
   "source": [
    "struct MyCustomException <: Exception end"
   ]
  },
  {
   "cell_type": "markdown",
   "id": "f43596e6",
   "metadata": {},
   "source": [
    "\n",
    "The `throw` function\n"
   ]
  },
  {
   "cell_type": "markdown",
   "id": "7368b98b",
   "metadata": {},
   "source": [
    "\n",
    "Exceptions can be created explicitly with `throw`. For example, a function defined only for nonnegative numbers could be written to `throw` a `DomainError` if the argument is negative:"
   ]
  },
  {
   "cell_type": "code",
   "execution_count": 190,
   "id": "997c5b2c",
   "metadata": {
    "tags": [
     "hide"
    ]
   },
   "outputs": [
    {
     "data": {
      "text/plain": [
       "f (generic function with 1 method)"
      ]
     },
     "execution_count": 190,
     "metadata": {},
     "output_type": "execute_result"
    }
   ],
   "source": [
    "f(x) = x >= 0 ? exp(-x) : throw(DomainError(x, \"argument must be nonnegative\"))\n"
   ]
  },
  {
   "cell_type": "code",
   "execution_count": 191,
   "id": "298a3239",
   "metadata": {
    "tags": [
     "hide"
    ]
   },
   "outputs": [
    {
     "data": {
      "text/plain": [
       "0.36787944117144233"
      ]
     },
     "execution_count": 191,
     "metadata": {},
     "output_type": "execute_result"
    }
   ],
   "source": [
    "f(1)"
   ]
  },
  {
   "cell_type": "code",
   "execution_count": 192,
   "id": "691f69fc",
   "metadata": {
    "tags": [
     "hide"
    ]
   },
   "outputs": [
    {
     "ename": "LoadError",
     "evalue": "DomainError with -1:\nargument must be nonnegative",
     "output_type": "error",
     "traceback": [
      "DomainError with -1:\nargument must be nonnegative",
      "",
      "Stacktrace:",
      " [1] f(x::Int64)",
      "   @ Main ./In[190]:1",
      " [2] top-level scope",
      "   @ In[192]:1"
     ]
    }
   ],
   "source": [
    "f(-1)"
   ]
  },
  {
   "cell_type": "code",
   "execution_count": 46,
   "id": "775f9115",
   "metadata": {},
   "outputs": [
    {
     "ename": "LoadError",
     "evalue": "invalid redefinition of constant MyCustomException",
     "output_type": "error",
     "traceback": [
      "invalid redefinition of constant MyCustomException",
      "",
      "Stacktrace:",
      " [1] top-level scope",
      "   @ In[46]:1"
     ]
    }
   ],
   "source": [
    "struct MyCustomException <: Exception\n",
    "    var::Int\n",
    "end"
   ]
  },
  {
   "cell_type": "code",
   "execution_count": 194,
   "id": "5141c0fd",
   "metadata": {
    "tags": [
     "hide"
    ]
   },
   "outputs": [],
   "source": [
    "struct NegativeNumberException <: Exception\n",
    "    var::Int\n",
    "end"
   ]
  },
  {
   "cell_type": "code",
   "execution_count": 199,
   "id": "5207b742",
   "metadata": {
    "tags": [
     "hide"
    ]
   },
   "outputs": [],
   "source": [
    "Base.showerror(io::IO, e::NegativeNumberException) = print(io, \"No negative numbers, got $(e.var)\")"
   ]
  },
  {
   "cell_type": "code",
   "execution_count": 200,
   "id": "43d15d89",
   "metadata": {},
   "outputs": [
    {
     "data": {
      "text/plain": [
       "f2 (generic function with 1 method)"
      ]
     },
     "execution_count": 200,
     "metadata": {},
     "output_type": "execute_result"
    }
   ],
   "source": [
    "f2(x) = x >= 0 ? exp(-x) : throw(NegativeNumberException(x))\n"
   ]
  },
  {
   "cell_type": "code",
   "execution_count": 201,
   "id": "7ba6ffb6",
   "metadata": {},
   "outputs": [
    {
     "ename": "LoadError",
     "evalue": "No negative numbers, got -1",
     "output_type": "error",
     "traceback": [
      "No negative numbers, got -1",
      "",
      "Stacktrace:",
      " [1] f2(x::Int64)",
      "   @ Main ./In[200]:1",
      " [2] top-level scope",
      "   @ In[201]:1"
     ]
    }
   ],
   "source": [
    "f2(-1)"
   ]
  },
  {
   "cell_type": "markdown",
   "id": "0c343ccd",
   "metadata": {},
   "source": [
    "## Errors"
   ]
  },
  {
   "cell_type": "markdown",
   "id": "1b9fd294",
   "metadata": {},
   "source": [
    "\n",
    "The `error` function is used to produce an ErrorException that interrupts the normal flow of control.\n",
    "\n",
    "Suppose we want to stop execution immediately if the square root of a negative number is taken. To do this, we can define a fussy version of the sqrt function that raises an error if its argument is negative:"
   ]
  },
  {
   "cell_type": "code",
   "execution_count": null,
   "id": "c4b7b4cb",
   "metadata": {},
   "outputs": [],
   "source": [
    "fussy_sqrt(x) = x >= 0 ? sqrt(x) : error(\"negative x not allowed\")\n"
   ]
  },
  {
   "cell_type": "code",
   "execution_count": null,
   "id": "21eecce5",
   "metadata": {},
   "outputs": [],
   "source": [
    "fussy_sqrt(2)"
   ]
  },
  {
   "cell_type": "code",
   "execution_count": null,
   "id": "71493156",
   "metadata": {},
   "outputs": [],
   "source": [
    "fussy_sqrt(-1)"
   ]
  },
  {
   "cell_type": "markdown",
   "id": "06af404a",
   "metadata": {},
   "source": [
    "## The try/catch statement"
   ]
  },
  {
   "cell_type": "markdown",
   "id": "78f9b4c0",
   "metadata": {},
   "source": [
    "The `The try/catch` statement allows for `Exceptions` to be tested for, and for the graceful handling of things that may ordinarily break your application. For example, in the below code the function for square root would normally throw an exception. By placing a try/catch block around it we can mitigate that here. You may choose how you wish to handle this exception, whether logging it, return a placeholder value or as in the case below where we just printed out a statement. One thing to think about when deciding how to handle unexpected situations is that using a try/catch block is much slower than using conditional branching to handle those situations. Below there are more examples of handling exceptions with a `try/catch` block:"
   ]
  },
  {
   "cell_type": "code",
   "execution_count": 54,
   "id": "6face400",
   "metadata": {},
   "outputs": [
    {
     "name": "stdout",
     "output_type": "stream",
     "text": [
      "You should have entered a numeric value\n"
     ]
    }
   ],
   "source": [
    "try\n",
    "    sqrt(\"ten\")\n",
    "catch\n",
    "    println(\"You should have entered a numeric value\")\n",
    "end\n"
   ]
  },
  {
   "cell_type": "code",
   "execution_count": 57,
   "id": "637ef942",
   "metadata": {},
   "outputs": [
    {
     "name": "stdout",
     "output_type": "stream",
     "text": [
      "Custom Exception says you should have entered a numeric value\n"
     ]
    }
   ],
   "source": [
    "try\n",
    "    f2(-2)\n",
    "catch e\n",
    "    if e isa NegativeNumberException\n",
    "        println(\"This exception says you should have entered a non-negative value\")\n",
    "    end\n",
    "end\n"
   ]
  },
  {
   "attachments": {},
   "cell_type": "markdown",
   "id": "0e754219",
   "metadata": {},
   "source": [
    "### Exercises\n",
    "\n",
    "#### 10.1\n",
    "\n",
    "Run the cell below to define a function that shortens a name. It expects a string greater than 3 characters long, otherwise it throws an appropriate exception."
   ]
  },
  {
   "cell_type": "code",
   "execution_count": 160,
   "id": "451c1001",
   "metadata": {},
   "outputs": [
    {
     "data": {
      "text/plain": [
       "name_shortener (generic function with 1 method)"
      ]
     },
     "execution_count": 160,
     "metadata": {},
     "output_type": "execute_result"
    }
   ],
   "source": [
    "function name_shortener(name)\n",
    "    if !(name isa String)\n",
    "        throw(TypeError(:name, \"Wrong Type\", String, Number))\n",
    "    elseif length(name) < 4\n",
    "        throw(DimensionMismatch())\n",
    "    end\n",
    "    name[1:3]\n",
    "end"
   ]
  },
  {
   "attachments": {},
   "cell_type": "markdown",
   "id": "c0e3eac8",
   "metadata": {},
   "source": [
    "Wrap the function call below and catch the exceptions. Print out a helpful message letting the user know what the problem is for each one."
   ]
  },
  {
   "cell_type": "code",
   "execution_count": 172,
   "id": "1d2648ff",
   "metadata": {},
   "outputs": [
    {
     "ename": "LoadError",
     "evalue": "TypeError: in name, in Wrong Type, expected String, got Type{Number}",
     "output_type": "error",
     "traceback": [
      "TypeError: in name, in Wrong Type, expected String, got Type{Number}",
      "",
      "Stacktrace:",
      " [1] name_shortener(name::Int64)",
      "   @ Main ./In[160]:3",
      " [2] top-level scope",
      "   @ In[172]:4"
     ]
    }
   ],
   "source": [
    "tv = 55595472\n",
    "me = \"Jay\"\n",
    "\n",
    "name_shortener(tv) # consider name_shortener(me) too"
   ]
  },
  {
   "cell_type": "code",
   "execution_count": 173,
   "id": "921b2f18",
   "metadata": {
    "tags": [
     "hide"
    ]
   },
   "outputs": [
    {
     "name": "stdout",
     "output_type": "stream",
     "text": [
      "Name is too short!\n"
     ]
    }
   ],
   "source": [
    "## Solution\n",
    "tv = 55595472\n",
    "me = \"Jay\"\n",
    "\n",
    "try\n",
    "    name_shortener(me)\n",
    "catch e\n",
    "    if e isa TypeError\n",
    "        println(\"Needs a string!\")\n",
    "    elseif e isa DimensionMismatch\n",
    "        println(\"Name is too short!\")\n",
    "    end\n",
    "end"
   ]
  }
 ],
 "metadata": {
  "kernelspec": {
   "display_name": "Julia 1.8.3",
   "language": "julia",
   "name": "julia-1.8"
  },
  "language_info": {
   "file_extension": ".jl",
   "mimetype": "application/julia",
   "name": "julia",
   "version": "1.8.3"
  }
 },
 "nbformat": 4,
 "nbformat_minor": 5
}
