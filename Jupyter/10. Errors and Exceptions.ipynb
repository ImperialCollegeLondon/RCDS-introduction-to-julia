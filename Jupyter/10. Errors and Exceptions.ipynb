{
 "cells": [
  {
   "attachments": {},
   "cell_type": "markdown",
   "id": "28d6fd2e",
   "metadata": {},
   "source": [
    "# Errors and Exceptions\n",
    "\n",
    "https://docs.julialang.org/en/v1/manual/control-flow/#Built-in-Exceptions"
   ]
  },
  {
   "attachments": {},
   "cell_type": "markdown",
   "id": "fe603ca6",
   "metadata": {},
   "source": [
    "Many different types of exceptions exist! You might have already come across some during the previous notebooks."
   ]
  },
  {
   "cell_type": "code",
   "execution_count": 1,
   "id": "2701c303",
   "metadata": {},
   "outputs": [],
   "source": [
    "?Exception"
   ]
  },
  {
   "cell_type": "markdown",
   "id": "007baaaf",
   "metadata": {},
   "source": [
    "We can also define our own exceptions"
   ]
  },
  {
   "cell_type": "code",
   "execution_count": 2,
   "id": "d923d004",
   "metadata": {},
   "outputs": [],
   "source": []
  },
  {
   "cell_type": "markdown",
   "id": "f43596e6",
   "metadata": {},
   "source": [
    "\n",
    "The `throw` function\n"
   ]
  },
  {
   "cell_type": "markdown",
   "id": "7368b98b",
   "metadata": {},
   "source": [
    "\n",
    "Exceptions can be created explicitly with `throw`. For example, a function defined only for nonnegative numbers could be written to `throw` a `DomainError` if the argument is negative:"
   ]
  },
  {
   "cell_type": "code",
   "execution_count": 190,
   "id": "997c5b2c",
   "metadata": {},
   "outputs": [],
   "source": []
  },
  {
   "cell_type": "code",
   "execution_count": 191,
   "id": "298a3239",
   "metadata": {},
   "outputs": [],
   "source": []
  },
  {
   "cell_type": "code",
   "execution_count": 192,
   "id": "691f69fc",
   "metadata": {},
   "outputs": [],
   "source": []
  },
  {
   "cell_type": "code",
   "execution_count": 46,
   "id": "775f9115",
   "metadata": {},
   "outputs": [],
   "source": [
    "struct MyCustomException <: Exception\n",
    "    var::Int\n",
    "end"
   ]
  },
  {
   "cell_type": "code",
   "execution_count": 194,
   "id": "5141c0fd",
   "metadata": {},
   "outputs": [],
   "source": []
  },
  {
   "cell_type": "code",
   "execution_count": 199,
   "id": "5207b742",
   "metadata": {},
   "outputs": [],
   "source": []
  },
  {
   "cell_type": "code",
   "execution_count": 200,
   "id": "43d15d89",
   "metadata": {},
   "outputs": [],
   "source": [
    "f2(x) = x >= 0 ? exp(-x) : throw(NegativeNumberException(x))\n"
   ]
  },
  {
   "cell_type": "code",
   "execution_count": 201,
   "id": "7ba6ffb6",
   "metadata": {},
   "outputs": [],
   "source": [
    "f2(-1)"
   ]
  },
  {
   "cell_type": "markdown",
   "id": "0c343ccd",
   "metadata": {},
   "source": [
    "## Errors"
   ]
  },
  {
   "cell_type": "markdown",
   "id": "1b9fd294",
   "metadata": {},
   "source": [
    "\n",
    "The `error` function is used to produce an ErrorException that interrupts the normal flow of control.\n",
    "\n",
    "Suppose we want to stop execution immediately if the square root of a negative number is taken. To do this, we can define a fussy version of the sqrt function that raises an error if its argument is negative:"
   ]
  },
  {
   "cell_type": "code",
   "execution_count": null,
   "id": "c4b7b4cb",
   "metadata": {},
   "outputs": [],
   "source": [
    "fussy_sqrt(x) = x >= 0 ? sqrt(x) : error(\"negative x not allowed\")\n"
   ]
  },
  {
   "cell_type": "code",
   "execution_count": null,
   "id": "21eecce5",
   "metadata": {},
   "outputs": [],
   "source": [
    "fussy_sqrt(2)"
   ]
  },
  {
   "cell_type": "code",
   "execution_count": null,
   "id": "71493156",
   "metadata": {},
   "outputs": [],
   "source": [
    "fussy_sqrt(-1)"
   ]
  },
  {
   "cell_type": "markdown",
   "id": "06af404a",
   "metadata": {},
   "source": [
    "## The try/catch statement"
   ]
  },
  {
   "cell_type": "markdown",
   "id": "78f9b4c0",
   "metadata": {},
   "source": [
    "The `The try/catch` statement allows for `Exceptions` to be tested for, and for the graceful handling of things that may ordinarily break your application. For example, in the below code the function for square root would normally throw an exception. By placing a try/catch block around it we can mitigate that here. You may choose how you wish to handle this exception, whether logging it, return a placeholder value or as in the case below where we just printed out a statement. One thing to think about when deciding how to handle unexpected situations is that using a try/catch block is much slower than using conditional branching to handle those situations. Below there are more examples of handling exceptions with a `try/catch` block:"
   ]
  },
  {
   "cell_type": "code",
   "execution_count": 54,
   "id": "6face400",
   "metadata": {},
   "outputs": [],
   "source": [
    "try\n",
    "    sqrt(\"ten\")\n",
    "catch\n",
    "    println(\"You should have entered a numeric value\")\n",
    "end\n"
   ]
  },
  {
   "cell_type": "code",
   "execution_count": 57,
   "id": "637ef942",
   "metadata": {},
   "outputs": [],
   "source": [
    "try\n",
    "    f2(-2)\n",
    "catch e\n",
    "    if e isa MyCustomExceptionNew\n",
    "        println(\"Custom Exception says you should have entered a numeric value\")\n",
    "    end\n",
    "end\n"
   ]
  },
  {
   "attachments": {},
   "cell_type": "markdown",
   "id": "0e754219",
   "metadata": {},
   "source": [
    "### Exercises\n",
    "\n",
    "#### 10.1\n",
    "\n",
    "Run the cell below to define a function that shortens a name. It expects a string greater than 3 characters long, otherwise it throws an appropriate exception."
   ]
  },
  {
   "cell_type": "code",
   "execution_count": 160,
   "id": "451c1001",
   "metadata": {},
   "outputs": [],
   "source": [
    "function name_shortener(name)\n",
    "    if !(name isa String)\n",
    "        throw(TypeError(:name, \"Wrong Type\", String, Number))\n",
    "    elseif length(name) < 4\n",
    "        throw(DimensionMismatch())\n",
    "    end\n",
    "    name[1:3]\n",
    "end"
   ]
  },
  {
   "attachments": {},
   "cell_type": "markdown",
   "id": "c0e3eac8",
   "metadata": {},
   "source": [
    "Wrap the function call below and catch the exceptions. Print out a helpful message letting the user know what the problem is for each one."
   ]
  },
  {
   "cell_type": "code",
   "execution_count": 172,
   "id": "1d2648ff",
   "metadata": {},
   "outputs": [],
   "source": [
    "tv = 55595472\n",
    "me = \"Jay\"\n",
    "\n",
    "name_shortener(tv) # consider name_shortener(me) too"
   ]
  },
  {
   "cell_type": "code",
   "execution_count": 173,
   "id": "921b2f18",
   "metadata": {},
   "outputs": [],
   "source": []
  }
 ],
 "metadata": {
  "kernelspec": {
   "display_name": "Julia 1.8.3",
   "language": "julia",
   "name": "julia-1.8"
  },
  "language_info": {
   "file_extension": ".jl",
   "mimetype": "application/julia",
   "name": "julia",
   "version": "1.8.3"
  }
 },
 "nbformat": 4,
 "nbformat_minor": 5
}
